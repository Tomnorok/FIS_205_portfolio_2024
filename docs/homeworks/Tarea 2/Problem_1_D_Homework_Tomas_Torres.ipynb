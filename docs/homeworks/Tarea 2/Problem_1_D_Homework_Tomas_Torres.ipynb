{
  "nbformat": 4,
  "nbformat_minor": 0,
  "metadata": {
    "colab": {
      "provenance": []
    },
    "kernelspec": {
      "name": "python3",
      "display_name": "Python 3"
    },
    "language_info": {
      "name": "python"
    }
  },
  "cells": [
    {
      "cell_type": "code",
      "source": [],
      "metadata": {
        "id": "rxyivj4i19BR"
      },
      "execution_count": 3,
      "outputs": []
    },
    {
      "cell_type": "code",
      "source": [
        "def modi_merge_sort(A, p, r):\n",
        "    if p < r:\n",
        "        q = (p + r) // 2\n",
        "        left = modi_merge_sort(A, p, q)\n",
        "        right = modi_merge_sort(A, q + 1, r)\n",
        "        inv = merge(A, p, q, r) + left + right\n",
        "        return inv\n",
        "    return 0\n",
        "\n",
        "def merge(A, p, q, r):\n",
        "    n1 = q - p + 1\n",
        "    n2 = r - q\n",
        "    L = [0] * (n1)\n",
        "    R = [0] * (n2)\n",
        "    for i in range(n1):\n",
        "        L[i] = A[p + i]\n",
        "    for j in range(n2):\n",
        "        R[j] = A[q + j + 1]\n",
        "    L.append(float('inf'))\n",
        "    R.append(float('inf'))\n",
        "    i = j = 0\n",
        "    inv_count = 0\n",
        "    for k in range(p, r + 1):\n",
        "        if L[i] <= R[j]:\n",
        "            A[k] = L[i]\n",
        "            i += 1\n",
        "        else:\n",
        "            A[k] = R[j]\n",
        "            j += 1\n",
        "            inv_count += n1 - i\n",
        "    return inv_count\n",
        "\n",
        "# Ejemplo de uso:\n",
        "A = [2, 3, 8, 6, 1]\n",
        "inversiones = modi_merge_sort(A, 0, len(A) - 1)\n",
        "print(\"Número de inversiones:\", inversiones)\n",
        "print(\"Array ordenado:\", A)\n"
      ],
      "metadata": {
        "colab": {
          "base_uri": "https://localhost:8080/"
        },
        "id": "T6M5N5-RyOBb",
        "outputId": "6186600b-348a-4c37-c410-fa0d541b6824"
      },
      "execution_count": 3,
      "outputs": [
        {
          "output_type": "stream",
          "name": "stdout",
          "text": [
            "Número de inversiones: 5\n",
            "Array ordenado: [1, 2, 3, 6, 8]\n"
          ]
        }
      ]
    },
    {
      "cell_type": "markdown",
      "source": [
        "Este código implementa el algoritmo Modi-Merge-Sort en Python 3, junto con la función merge, que cuenta el número de inversiones al combinar las submatrices ordenadas."
      ],
      "metadata": {
        "id": "80BtUgJxyT-H"
      }
    }
  ]
}