{
  "nbformat": 4,
  "nbformat_minor": 0,
  "metadata": {
    "colab": {
      "provenance": []
    },
    "kernelspec": {
      "name": "python3",
      "display_name": "Python 3"
    },
    "language_info": {
      "name": "python"
    }
  },
  "cells": [
    {
      "cell_type": "code",
      "execution_count": 1,
      "metadata": {
        "id": "bou6hJ4I9_h7"
      },
      "outputs": [],
      "source": [
        "import numpy as np"
      ]
    },
    {
      "cell_type": "code",
      "source": [
        "def towers_of_hanoi(n, source, target, auxiliary):\n",
        "    if n == 1:\n",
        "        print(f\"Move disk 1 from {source} to {target}\")\n",
        "        return\n",
        "    towers_of_hanoi(n-1, source, auxiliary, target)\n",
        "    print(f\"Move disk {n} from {source} to {target}\")\n",
        "    towers_of_hanoi(n-1, auxiliary, target, source)\n",
        "\n",
        "# Example usage\n",
        "n_disks = 3\n",
        "source_peg = \"A\"\n",
        "target_peg = \"C\"\n",
        "auxiliary_peg = \"B\"\n",
        "print(f\"Solving Towers of Hanoi with {n_disks} disks:\")\n",
        "towers_of_hanoi(n_disks, source_peg, target_peg, auxiliary_peg)"
      ],
      "metadata": {
        "colab": {
          "base_uri": "https://localhost:8080/"
        },
        "id": "2JJA4on0-EDZ",
        "outputId": "aff4cb80-d7c1-48e7-d0de-233068771be0"
      },
      "execution_count": 2,
      "outputs": [
        {
          "output_type": "stream",
          "name": "stdout",
          "text": [
            "Solving Towers of Hanoi with 3 disks:\n",
            "Move disk 1 from A to C\n",
            "Move disk 2 from A to B\n",
            "Move disk 1 from C to B\n",
            "Move disk 3 from A to C\n",
            "Move disk 1 from B to A\n",
            "Move disk 2 from B to C\n",
            "Move disk 1 from A to C\n"
          ]
        }
      ]
    }
  ]
}