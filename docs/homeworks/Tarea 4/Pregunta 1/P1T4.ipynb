{
  "nbformat": 4,
  "nbformat_minor": 0,
  "metadata": {
    "colab": {
      "provenance": []
    },
    "kernelspec": {
      "name": "python3",
      "display_name": "Python 3"
    },
    "language_info": {
      "name": "python"
    }
  },
  "cells": [
    {
      "cell_type": "code",
      "execution_count": 1,
      "metadata": {
        "id": "qE_VPl0W774E"
      },
      "outputs": [],
      "source": [
        "import numpy as np\n"
      ]
    },
    {
      "cell_type": "code",
      "source": [
        "class Vector3:\n",
        "    def __init__(self, x, y, z):\n",
        "        self.x = x\n",
        "        self.y = y\n",
        "        self.z = z\n",
        "\n",
        "    def __mul__(self, scalar):\n",
        "        \"\"\"Multiplication by a scalar.\"\"\"\n",
        "        return Vector3(self.x * scalar, self.y * scalar, self.z * scalar)\n",
        "\n",
        "    def __add__(self, other):\n",
        "        \"\"\"Vector addition.\"\"\"\n",
        "        return Vector3(self.x + other.x, self.y + other.y, self.z + other.z)\n",
        "\n",
        "    def dot(self, other):\n",
        "        \"\"\"Dot product.\"\"\"\n",
        "        return self.x * other.x + self.y * other.y + self.z * other.z\n",
        "\n",
        "    def cross(self, other):\n",
        "        \"\"\"Cross product.\"\"\"\n",
        "        return Vector3(self.y * other.z - self.z * other.y,\n",
        "                       self.z * other.x - self.x * other.z,\n",
        "                       self.x * other.y - self.y * other.x)\n",
        "\n",
        "    def __str__(self):\n",
        "        return f\"({self.x}, {self.y}, {self.z})\"\n",
        "\n",
        "def main():\n",
        "    x1, y1, z1 = map(float, input(\"Enter the components of the first vector (x y z): \").split())\n",
        "    x2, y2, z2 = map(float, input(\"Enter the components of the second vector (x y z): \").split())\n",
        "    scalar = float(input(\"Enter a scalar: \"))\n",
        "\n",
        "    v1 = Vector3(x1, y1, z1)\n",
        "    v2 = Vector3(x2, y2, z2)\n",
        "\n",
        "    result1 = v1 * scalar\n",
        "    print(\"Result of multiplication by scalar:\", result1)\n",
        "\n",
        "    result2 = v1 + v2\n",
        "    print(\"Result of vector sum:\", result2)\n",
        "\n",
        "    dot_product = v1.dot(v2)\n",
        "    print(\"Dot product:\", dot_product)\n",
        "\n",
        "    cross_product = v1.cross(v2)\n",
        "    print(\"Cross product:\", cross_product)\n",
        "\n",
        "if __name__ == \"__main__\":\n",
        "    main()\n"
      ],
      "metadata": {
        "colab": {
          "base_uri": "https://localhost:8080/"
        },
        "id": "QLY0_Ml48Auv",
        "outputId": "22cba67b-c14e-4005-d23e-4bc9e9a94749"
      },
      "execution_count": 6,
      "outputs": [
        {
          "output_type": "stream",
          "name": "stdout",
          "text": [
            "Enter the components of the first vector (x y z): 1 1 1\n",
            "Enter the components of the second vector (x y z): 2 3 4\n",
            "Enter a scalar: 3\n",
            "Result of multiplication by scalar: (3.0, 3.0, 3.0)\n",
            "Result of vector sum: (3.0, 4.0, 5.0)\n",
            "Dot product: 9.0\n",
            "Cross product: (1.0, -2.0, 1.0)\n"
          ]
        }
      ]
    },
    {
      "cell_type": "markdown",
      "source": [
        "# Explanation\n",
        "**Class definition:**\n",
        "\n",
        "Vector3 is the main class that represents a 3D vector with x, y, z components.\n",
        "\n",
        "**Implementation methods:**\n",
        "\n",
        "\n",
        "*   __mul__: Replaces the multiplication operator with scalar multiplication.\n",
        "*  __add__: Replaces the addition operator with vector addition.\n",
        "*  dot: draw the dot product of two vectors.\n",
        "*  cross: increases the cross product of two vectors.\n",
        "*  __str__: Overrides the default string rendering method for easier printing.\n",
        "\n",
        "\n",
        "**Main Function:**\n",
        "\n",
        "Requires the user to enter two vectors and a scalar.\n",
        "\n",
        "Show how operations work (scalar multiplication, vector addition, scalar product, vector product).\n",
        "\n",
        "This version of Python takes advantage of the simplicity and power of Python classes, with operator overloading to make vector operations visual and easy to use in code."
      ],
      "metadata": {
        "id": "ZI5OxjQj9lhh"
      }
    }
  ]
}