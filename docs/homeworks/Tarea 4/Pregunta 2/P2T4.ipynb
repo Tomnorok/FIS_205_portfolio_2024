{
  "nbformat": 4,
  "nbformat_minor": 0,
  "metadata": {
    "colab": {
      "provenance": []
    },
    "kernelspec": {
      "name": "python3",
      "display_name": "Python 3"
    },
    "language_info": {
      "name": "python"
    }
  },
  "cells": [
    {
      "cell_type": "code",
      "source": [
        "import numpy as np\n"
      ],
      "metadata": {
        "id": "Xlt-MmuTSsh0"
      },
      "execution_count": 1,
      "outputs": []
    },
    {
      "cell_type": "code",
      "execution_count": 2,
      "metadata": {
        "colab": {
          "base_uri": "https://localhost:8080/"
        },
        "id": "1JQbn59dSqRh",
        "outputId": "7cc474a9-44a4-4060-b1d1-9dd222a05c0f"
      },
      "outputs": [
        {
          "output_type": "stream",
          "name": "stdout",
          "text": [
            "β = 0.9, γ = 2.294157338705618\n",
            "β = 0.99, γ = 7.088812050083354\n",
            "β = 0.999, γ = 22.36627204212937\n",
            "β = 0.9999, γ = 70.71244595191452\n",
            "β = 0.99999, γ = 223.60735676962474\n",
            "β = 0.999999, γ = 707.1069579492319\n"
          ]
        }
      ],
      "source": [
        "\n",
        "# Function to calculate gamma using the Lorentz factor formula\n",
        "def gamma(beta):\n",
        "    return 1 / np.sqrt(1 - beta**2)\n",
        "\n",
        "betas = [0.9, 0.99, 0.999, 0.9999, 0.99999, 0.999999]\n",
        "gammas = [gamma(beta) for beta in betas]\n",
        "\n",
        "for beta, gamma_value in zip(betas, gammas):\n",
        "    print(f\"β = {beta}, γ = {gamma_value}\")"
      ]
    }
  ]
}