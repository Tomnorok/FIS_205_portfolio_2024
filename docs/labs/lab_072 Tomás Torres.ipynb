{
  "cells": [
    {
      "cell_type": "markdown",
      "id": "5ce90c3b",
      "metadata": {
        "id": "5ce90c3b"
      },
      "source": [
        "<a href=\"https://colab.research.google.com/github/fralfaro/MAT281_2023/blob/main/docs/labs/lab_072.ipynb\" target=\"_parent\"><img src=\"https://colab.research.google.com/assets/colab-badge.svg\" alt=\"Open In Colab\"/></a>\n",
        "\n",
        "# MAT281 - Laboratorio N°072\n",
        "\n",
        "\n",
        "<a id='p1'></a>\n",
        "## I.- Problema 01\n",
        "\n",
        "\n",
        "<img src=\"https://drive.google.com/uc?export=view&id=1hG9C4e6Tisw2VTEatGkP_hRmnZNpbXK4\" width = \"300\" align=\"center\"/>\n"
      ]
    },
    {
      "cell_type": "markdown",
      "id": "97d33fad",
      "metadata": {
        "id": "97d33fad"
      },
      "source": [
        "El objetivo es a partir de los datos, hacer la mejor predicción de cada imagen. Para ellos es necesario realizar los pasos clásicos de un proyecto de _Machine Learning_, como estadística descriptiva, visualización y preprocesamiento.\n",
        "\n",
        "* Se solicita ajustar al menos tres modelos de clasificación:\n",
        "     * Regresión logística\n",
        "     * K-Nearest Neighbours\n",
        "     * Uno o más algoritmos a su elección [link](https://scikit-learn.org/stable/supervised_learning.html#supervised-learning).\n",
        "\n",
        "* Realizar una predicción con cada uno de los tres modelos con los datos _test_ y obtener el _score_.\n",
        "* Analizar sus métricas de error (**accuracy**, **precision**, **recall**, **f-score**)"
      ]
    },
    {
      "cell_type": "markdown",
      "id": "e2c4e7ea",
      "metadata": {
        "id": "e2c4e7ea"
      },
      "source": [
        "### Exploración de los datos\n",
        "A continuación se carga el conjunto de datos a utilizar, a través del sub-módulo `datasets` de `sklearn`."
      ]
    },
    {
      "cell_type": "code",
      "execution_count": 3,
      "id": "017c133d",
      "metadata": {
        "id": "017c133d"
      },
      "outputs": [],
      "source": [
        "import numpy as np\n",
        "import pandas as pd\n",
        "from sklearn import datasets\n",
        "import matplotlib.pyplot as plt\n",
        "\n",
        "%matplotlib inline"
      ]
    },
    {
      "cell_type": "code",
      "execution_count": 4,
      "id": "4c20a1b9",
      "metadata": {
        "colab": {
          "base_uri": "https://localhost:8080/"
        },
        "id": "4c20a1b9",
        "outputId": "c8017656-d232-47e9-ce9f-96a795f2dc22"
      },
      "outputs": [
        {
          "output_type": "stream",
          "name": "stdout",
          "text": [
            ".. _digits_dataset:\n",
            "\n",
            "Optical recognition of handwritten digits dataset\n",
            "--------------------------------------------------\n",
            "\n",
            "**Data Set Characteristics:**\n",
            "\n",
            "    :Number of Instances: 1797\n",
            "    :Number of Attributes: 64\n",
            "    :Attribute Information: 8x8 image of integer pixels in the range 0..16.\n",
            "    :Missing Attribute Values: None\n",
            "    :Creator: E. Alpaydin (alpaydin '@' boun.edu.tr)\n",
            "    :Date: July; 1998\n",
            "\n",
            "This is a copy of the test set of the UCI ML hand-written digits datasets\n",
            "https://archive.ics.uci.edu/ml/datasets/Optical+Recognition+of+Handwritten+Digits\n",
            "\n",
            "The data set contains images of hand-written digits: 10 classes where\n",
            "each class refers to a digit.\n",
            "\n",
            "Preprocessing programs made available by NIST were used to extract\n",
            "normalized bitmaps of handwritten digits from a preprinted form. From a\n",
            "total of 43 people, 30 contributed to the training set and different 13\n",
            "to the test set. 32x32 bitmaps are divided into nonoverlapping blocks of\n",
            "4x4 and the number of on pixels are counted in each block. This generates\n",
            "an input matrix of 8x8 where each element is an integer in the range\n",
            "0..16. This reduces dimensionality and gives invariance to small\n",
            "distortions.\n",
            "\n",
            "For info on NIST preprocessing routines, see M. D. Garris, J. L. Blue, G.\n",
            "T. Candela, D. L. Dimmick, J. Geist, P. J. Grother, S. A. Janet, and C.\n",
            "L. Wilson, NIST Form-Based Handprint Recognition System, NISTIR 5469,\n",
            "1994.\n",
            "\n",
            ".. topic:: References\n",
            "\n",
            "  - C. Kaynak (1995) Methods of Combining Multiple Classifiers and Their\n",
            "    Applications to Handwritten Digit Recognition, MSc Thesis, Institute of\n",
            "    Graduate Studies in Science and Engineering, Bogazici University.\n",
            "  - E. Alpaydin, C. Kaynak (1998) Cascading Classifiers, Kybernetika.\n",
            "  - Ken Tang and Ponnuthurai N. Suganthan and Xi Yao and A. Kai Qin.\n",
            "    Linear dimensionalityreduction using relevance weighted LDA. School of\n",
            "    Electrical and Electronic Engineering Nanyang Technological University.\n",
            "    2005.\n",
            "  - Claudio Gentile. A New Approximate Maximal Margin Classification\n",
            "    Algorithm. NIPS. 2000.\n",
            "\n"
          ]
        }
      ],
      "source": [
        "digits_dict = datasets.load_digits()\n",
        "print(digits_dict[\"DESCR\"])"
      ]
    },
    {
      "cell_type": "code",
      "execution_count": 5,
      "id": "eb5e310c",
      "metadata": {
        "colab": {
          "base_uri": "https://localhost:8080/"
        },
        "id": "eb5e310c",
        "outputId": "7068bd0a-88d6-402e-c22a-89fddee2e14b"
      },
      "outputs": [
        {
          "output_type": "execute_result",
          "data": {
            "text/plain": [
              "dict_keys(['data', 'target', 'frame', 'feature_names', 'target_names', 'images', 'DESCR'])"
            ]
          },
          "metadata": {},
          "execution_count": 5
        }
      ],
      "source": [
        "# informacion de las columnas\n",
        "digits_dict.keys()"
      ]
    },
    {
      "cell_type": "code",
      "execution_count": 7,
      "id": "3214cfd9",
      "metadata": {
        "colab": {
          "base_uri": "https://localhost:8080/"
        },
        "id": "3214cfd9",
        "outputId": "a0909f71-be02-4646-cc2a-5bb714da8909"
      },
      "outputs": [
        {
          "output_type": "execute_result",
          "data": {
            "text/plain": [
              "array([0, 1, 2, ..., 8, 9, 8])"
            ]
          },
          "metadata": {},
          "execution_count": 7
        }
      ],
      "source": [
        "# informacion del target\n",
        "digits_dict[\"target\"]"
      ]
    },
    {
      "cell_type": "markdown",
      "id": "698e2e43",
      "metadata": {
        "id": "698e2e43"
      },
      "source": [
        "A continuación se crea dataframe declarado como `digits` con los datos de `digits_dict` tal que tenga 65 columnas, las 6 primeras a la representación de la imagen en escala de grises (0-blanco, 255-negro) y la última correspondiente al dígito (`target`) con el nombre _target_."
      ]
    },
    {
      "cell_type": "code",
      "execution_count": 6,
      "id": "a2018b00",
      "metadata": {
        "colab": {
          "base_uri": "https://localhost:8080/",
          "height": 236
        },
        "id": "a2018b00",
        "outputId": "754f1b8c-71cd-4fb5-ec74-930bd1847bf5"
      },
      "outputs": [
        {
          "output_type": "execute_result",
          "data": {
            "text/plain": [
              "   c00  c01  c02  c03  c04  c05  c06  c07  c08  c09  ...  c55  c56  c57  c58  \\\n",
              "0    0    0    5   13    9    1    0    0    0    0  ...    0    0    0    6   \n",
              "1    0    0    0   12   13    5    0    0    0    0  ...    0    0    0    0   \n",
              "2    0    0    0    4   15   12    0    0    0    0  ...    0    0    0    0   \n",
              "3    0    0    7   15   13    1    0    0    0    8  ...    0    0    0    7   \n",
              "4    0    0    0    1   11    0    0    0    0    0  ...    0    0    0    0   \n",
              "\n",
              "   c59  c60  c61  c62  c63  target  \n",
              "0   13   10    0    0    0       0  \n",
              "1   11   16   10    0    0       1  \n",
              "2    3   11   16    9    0       2  \n",
              "3   13   13    9    0    0       3  \n",
              "4    2   16    4    0    0       4  \n",
              "\n",
              "[5 rows x 65 columns]"
            ],
            "text/html": [
              "\n",
              "  <div id=\"df-6619186d-3e2d-4a9b-8992-16f4883d4346\" class=\"colab-df-container\">\n",
              "    <div>\n",
              "<style scoped>\n",
              "    .dataframe tbody tr th:only-of-type {\n",
              "        vertical-align: middle;\n",
              "    }\n",
              "\n",
              "    .dataframe tbody tr th {\n",
              "        vertical-align: top;\n",
              "    }\n",
              "\n",
              "    .dataframe thead th {\n",
              "        text-align: right;\n",
              "    }\n",
              "</style>\n",
              "<table border=\"1\" class=\"dataframe\">\n",
              "  <thead>\n",
              "    <tr style=\"text-align: right;\">\n",
              "      <th></th>\n",
              "      <th>c00</th>\n",
              "      <th>c01</th>\n",
              "      <th>c02</th>\n",
              "      <th>c03</th>\n",
              "      <th>c04</th>\n",
              "      <th>c05</th>\n",
              "      <th>c06</th>\n",
              "      <th>c07</th>\n",
              "      <th>c08</th>\n",
              "      <th>c09</th>\n",
              "      <th>...</th>\n",
              "      <th>c55</th>\n",
              "      <th>c56</th>\n",
              "      <th>c57</th>\n",
              "      <th>c58</th>\n",
              "      <th>c59</th>\n",
              "      <th>c60</th>\n",
              "      <th>c61</th>\n",
              "      <th>c62</th>\n",
              "      <th>c63</th>\n",
              "      <th>target</th>\n",
              "    </tr>\n",
              "  </thead>\n",
              "  <tbody>\n",
              "    <tr>\n",
              "      <th>0</th>\n",
              "      <td>0</td>\n",
              "      <td>0</td>\n",
              "      <td>5</td>\n",
              "      <td>13</td>\n",
              "      <td>9</td>\n",
              "      <td>1</td>\n",
              "      <td>0</td>\n",
              "      <td>0</td>\n",
              "      <td>0</td>\n",
              "      <td>0</td>\n",
              "      <td>...</td>\n",
              "      <td>0</td>\n",
              "      <td>0</td>\n",
              "      <td>0</td>\n",
              "      <td>6</td>\n",
              "      <td>13</td>\n",
              "      <td>10</td>\n",
              "      <td>0</td>\n",
              "      <td>0</td>\n",
              "      <td>0</td>\n",
              "      <td>0</td>\n",
              "    </tr>\n",
              "    <tr>\n",
              "      <th>1</th>\n",
              "      <td>0</td>\n",
              "      <td>0</td>\n",
              "      <td>0</td>\n",
              "      <td>12</td>\n",
              "      <td>13</td>\n",
              "      <td>5</td>\n",
              "      <td>0</td>\n",
              "      <td>0</td>\n",
              "      <td>0</td>\n",
              "      <td>0</td>\n",
              "      <td>...</td>\n",
              "      <td>0</td>\n",
              "      <td>0</td>\n",
              "      <td>0</td>\n",
              "      <td>0</td>\n",
              "      <td>11</td>\n",
              "      <td>16</td>\n",
              "      <td>10</td>\n",
              "      <td>0</td>\n",
              "      <td>0</td>\n",
              "      <td>1</td>\n",
              "    </tr>\n",
              "    <tr>\n",
              "      <th>2</th>\n",
              "      <td>0</td>\n",
              "      <td>0</td>\n",
              "      <td>0</td>\n",
              "      <td>4</td>\n",
              "      <td>15</td>\n",
              "      <td>12</td>\n",
              "      <td>0</td>\n",
              "      <td>0</td>\n",
              "      <td>0</td>\n",
              "      <td>0</td>\n",
              "      <td>...</td>\n",
              "      <td>0</td>\n",
              "      <td>0</td>\n",
              "      <td>0</td>\n",
              "      <td>0</td>\n",
              "      <td>3</td>\n",
              "      <td>11</td>\n",
              "      <td>16</td>\n",
              "      <td>9</td>\n",
              "      <td>0</td>\n",
              "      <td>2</td>\n",
              "    </tr>\n",
              "    <tr>\n",
              "      <th>3</th>\n",
              "      <td>0</td>\n",
              "      <td>0</td>\n",
              "      <td>7</td>\n",
              "      <td>15</td>\n",
              "      <td>13</td>\n",
              "      <td>1</td>\n",
              "      <td>0</td>\n",
              "      <td>0</td>\n",
              "      <td>0</td>\n",
              "      <td>8</td>\n",
              "      <td>...</td>\n",
              "      <td>0</td>\n",
              "      <td>0</td>\n",
              "      <td>0</td>\n",
              "      <td>7</td>\n",
              "      <td>13</td>\n",
              "      <td>13</td>\n",
              "      <td>9</td>\n",
              "      <td>0</td>\n",
              "      <td>0</td>\n",
              "      <td>3</td>\n",
              "    </tr>\n",
              "    <tr>\n",
              "      <th>4</th>\n",
              "      <td>0</td>\n",
              "      <td>0</td>\n",
              "      <td>0</td>\n",
              "      <td>1</td>\n",
              "      <td>11</td>\n",
              "      <td>0</td>\n",
              "      <td>0</td>\n",
              "      <td>0</td>\n",
              "      <td>0</td>\n",
              "      <td>0</td>\n",
              "      <td>...</td>\n",
              "      <td>0</td>\n",
              "      <td>0</td>\n",
              "      <td>0</td>\n",
              "      <td>0</td>\n",
              "      <td>2</td>\n",
              "      <td>16</td>\n",
              "      <td>4</td>\n",
              "      <td>0</td>\n",
              "      <td>0</td>\n",
              "      <td>4</td>\n",
              "    </tr>\n",
              "  </tbody>\n",
              "</table>\n",
              "<p>5 rows × 65 columns</p>\n",
              "</div>\n",
              "    <div class=\"colab-df-buttons\">\n",
              "\n",
              "  <div class=\"colab-df-container\">\n",
              "    <button class=\"colab-df-convert\" onclick=\"convertToInteractive('df-6619186d-3e2d-4a9b-8992-16f4883d4346')\"\n",
              "            title=\"Convert this dataframe to an interactive table.\"\n",
              "            style=\"display:none;\">\n",
              "\n",
              "  <svg xmlns=\"http://www.w3.org/2000/svg\" height=\"24px\" viewBox=\"0 -960 960 960\">\n",
              "    <path d=\"M120-120v-720h720v720H120Zm60-500h600v-160H180v160Zm220 220h160v-160H400v160Zm0 220h160v-160H400v160ZM180-400h160v-160H180v160Zm440 0h160v-160H620v160ZM180-180h160v-160H180v160Zm440 0h160v-160H620v160Z\"/>\n",
              "  </svg>\n",
              "    </button>\n",
              "\n",
              "  <style>\n",
              "    .colab-df-container {\n",
              "      display:flex;\n",
              "      gap: 12px;\n",
              "    }\n",
              "\n",
              "    .colab-df-convert {\n",
              "      background-color: #E8F0FE;\n",
              "      border: none;\n",
              "      border-radius: 50%;\n",
              "      cursor: pointer;\n",
              "      display: none;\n",
              "      fill: #1967D2;\n",
              "      height: 32px;\n",
              "      padding: 0 0 0 0;\n",
              "      width: 32px;\n",
              "    }\n",
              "\n",
              "    .colab-df-convert:hover {\n",
              "      background-color: #E2EBFA;\n",
              "      box-shadow: 0px 1px 2px rgba(60, 64, 67, 0.3), 0px 1px 3px 1px rgba(60, 64, 67, 0.15);\n",
              "      fill: #174EA6;\n",
              "    }\n",
              "\n",
              "    .colab-df-buttons div {\n",
              "      margin-bottom: 4px;\n",
              "    }\n",
              "\n",
              "    [theme=dark] .colab-df-convert {\n",
              "      background-color: #3B4455;\n",
              "      fill: #D2E3FC;\n",
              "    }\n",
              "\n",
              "    [theme=dark] .colab-df-convert:hover {\n",
              "      background-color: #434B5C;\n",
              "      box-shadow: 0px 1px 3px 1px rgba(0, 0, 0, 0.15);\n",
              "      filter: drop-shadow(0px 1px 2px rgba(0, 0, 0, 0.3));\n",
              "      fill: #FFFFFF;\n",
              "    }\n",
              "  </style>\n",
              "\n",
              "    <script>\n",
              "      const buttonEl =\n",
              "        document.querySelector('#df-6619186d-3e2d-4a9b-8992-16f4883d4346 button.colab-df-convert');\n",
              "      buttonEl.style.display =\n",
              "        google.colab.kernel.accessAllowed ? 'block' : 'none';\n",
              "\n",
              "      async function convertToInteractive(key) {\n",
              "        const element = document.querySelector('#df-6619186d-3e2d-4a9b-8992-16f4883d4346');\n",
              "        const dataTable =\n",
              "          await google.colab.kernel.invokeFunction('convertToInteractive',\n",
              "                                                    [key], {});\n",
              "        if (!dataTable) return;\n",
              "\n",
              "        const docLinkHtml = 'Like what you see? Visit the ' +\n",
              "          '<a target=\"_blank\" href=https://colab.research.google.com/notebooks/data_table.ipynb>data table notebook</a>'\n",
              "          + ' to learn more about interactive tables.';\n",
              "        element.innerHTML = '';\n",
              "        dataTable['output_type'] = 'display_data';\n",
              "        await google.colab.output.renderOutput(dataTable, element);\n",
              "        const docLink = document.createElement('div');\n",
              "        docLink.innerHTML = docLinkHtml;\n",
              "        element.appendChild(docLink);\n",
              "      }\n",
              "    </script>\n",
              "  </div>\n",
              "\n",
              "\n",
              "<div id=\"df-8724b5c2-b716-469a-ad39-aed2827f3df0\">\n",
              "  <button class=\"colab-df-quickchart\" onclick=\"quickchart('df-8724b5c2-b716-469a-ad39-aed2827f3df0')\"\n",
              "            title=\"Suggest charts.\"\n",
              "            style=\"display:none;\">\n",
              "\n",
              "<svg xmlns=\"http://www.w3.org/2000/svg\" height=\"24px\"viewBox=\"0 0 24 24\"\n",
              "     width=\"24px\">\n",
              "    <g>\n",
              "        <path d=\"M19 3H5c-1.1 0-2 .9-2 2v14c0 1.1.9 2 2 2h14c1.1 0 2-.9 2-2V5c0-1.1-.9-2-2-2zM9 17H7v-7h2v7zm4 0h-2V7h2v10zm4 0h-2v-4h2v4z\"/>\n",
              "    </g>\n",
              "</svg>\n",
              "  </button>\n",
              "\n",
              "<style>\n",
              "  .colab-df-quickchart {\n",
              "      --bg-color: #E8F0FE;\n",
              "      --fill-color: #1967D2;\n",
              "      --hover-bg-color: #E2EBFA;\n",
              "      --hover-fill-color: #174EA6;\n",
              "      --disabled-fill-color: #AAA;\n",
              "      --disabled-bg-color: #DDD;\n",
              "  }\n",
              "\n",
              "  [theme=dark] .colab-df-quickchart {\n",
              "      --bg-color: #3B4455;\n",
              "      --fill-color: #D2E3FC;\n",
              "      --hover-bg-color: #434B5C;\n",
              "      --hover-fill-color: #FFFFFF;\n",
              "      --disabled-bg-color: #3B4455;\n",
              "      --disabled-fill-color: #666;\n",
              "  }\n",
              "\n",
              "  .colab-df-quickchart {\n",
              "    background-color: var(--bg-color);\n",
              "    border: none;\n",
              "    border-radius: 50%;\n",
              "    cursor: pointer;\n",
              "    display: none;\n",
              "    fill: var(--fill-color);\n",
              "    height: 32px;\n",
              "    padding: 0;\n",
              "    width: 32px;\n",
              "  }\n",
              "\n",
              "  .colab-df-quickchart:hover {\n",
              "    background-color: var(--hover-bg-color);\n",
              "    box-shadow: 0 1px 2px rgba(60, 64, 67, 0.3), 0 1px 3px 1px rgba(60, 64, 67, 0.15);\n",
              "    fill: var(--button-hover-fill-color);\n",
              "  }\n",
              "\n",
              "  .colab-df-quickchart-complete:disabled,\n",
              "  .colab-df-quickchart-complete:disabled:hover {\n",
              "    background-color: var(--disabled-bg-color);\n",
              "    fill: var(--disabled-fill-color);\n",
              "    box-shadow: none;\n",
              "  }\n",
              "\n",
              "  .colab-df-spinner {\n",
              "    border: 2px solid var(--fill-color);\n",
              "    border-color: transparent;\n",
              "    border-bottom-color: var(--fill-color);\n",
              "    animation:\n",
              "      spin 1s steps(1) infinite;\n",
              "  }\n",
              "\n",
              "  @keyframes spin {\n",
              "    0% {\n",
              "      border-color: transparent;\n",
              "      border-bottom-color: var(--fill-color);\n",
              "      border-left-color: var(--fill-color);\n",
              "    }\n",
              "    20% {\n",
              "      border-color: transparent;\n",
              "      border-left-color: var(--fill-color);\n",
              "      border-top-color: var(--fill-color);\n",
              "    }\n",
              "    30% {\n",
              "      border-color: transparent;\n",
              "      border-left-color: var(--fill-color);\n",
              "      border-top-color: var(--fill-color);\n",
              "      border-right-color: var(--fill-color);\n",
              "    }\n",
              "    40% {\n",
              "      border-color: transparent;\n",
              "      border-right-color: var(--fill-color);\n",
              "      border-top-color: var(--fill-color);\n",
              "    }\n",
              "    60% {\n",
              "      border-color: transparent;\n",
              "      border-right-color: var(--fill-color);\n",
              "    }\n",
              "    80% {\n",
              "      border-color: transparent;\n",
              "      border-right-color: var(--fill-color);\n",
              "      border-bottom-color: var(--fill-color);\n",
              "    }\n",
              "    90% {\n",
              "      border-color: transparent;\n",
              "      border-bottom-color: var(--fill-color);\n",
              "    }\n",
              "  }\n",
              "</style>\n",
              "\n",
              "  <script>\n",
              "    async function quickchart(key) {\n",
              "      const quickchartButtonEl =\n",
              "        document.querySelector('#' + key + ' button');\n",
              "      quickchartButtonEl.disabled = true;  // To prevent multiple clicks.\n",
              "      quickchartButtonEl.classList.add('colab-df-spinner');\n",
              "      try {\n",
              "        const charts = await google.colab.kernel.invokeFunction(\n",
              "            'suggestCharts', [key], {});\n",
              "      } catch (error) {\n",
              "        console.error('Error during call to suggestCharts:', error);\n",
              "      }\n",
              "      quickchartButtonEl.classList.remove('colab-df-spinner');\n",
              "      quickchartButtonEl.classList.add('colab-df-quickchart-complete');\n",
              "    }\n",
              "    (() => {\n",
              "      let quickchartButtonEl =\n",
              "        document.querySelector('#df-8724b5c2-b716-469a-ad39-aed2827f3df0 button');\n",
              "      quickchartButtonEl.style.display =\n",
              "        google.colab.kernel.accessAllowed ? 'block' : 'none';\n",
              "    })();\n",
              "  </script>\n",
              "</div>\n",
              "    </div>\n",
              "  </div>\n"
            ]
          },
          "metadata": {},
          "execution_count": 6
        }
      ],
      "source": [
        "# leer datos\n",
        "digits = (\n",
        "    pd.DataFrame(\n",
        "        digits_dict[\"data\"],\n",
        "    )\n",
        "    .rename(columns=lambda x: f\"c{x:02d}\")\n",
        "    .assign(target=digits_dict[\"target\"])\n",
        "    .astype(int)\n",
        ")\n",
        "\n",
        "digits.head()"
      ]
    },
    {
      "cell_type": "markdown",
      "id": "11767261",
      "metadata": {
        "id": "11767261"
      },
      "source": [
        "### Ejercicio 1\n",
        "**Análisis exploratorio:** Realiza tu análisis exploratorio, no debes olvidar nada! Recuerda, cada análisis debe responder una pregunta.\n",
        "\n",
        "Algunas sugerencias:\n",
        "\n",
        "* ¿Cómo se distribuyen los datos?\n",
        "* ¿Cuánta memoria estoy utilizando?\n",
        "* ¿Qué tipo de datos son?\n",
        "* ¿Cuántos registros por clase hay?\n",
        "* ¿Hay registros que no se correspondan con tu conocimiento previo de los datos?"
      ]
    },
    {
      "cell_type": "code",
      "execution_count": 8,
      "id": "2cd3eb53",
      "metadata": {
        "colab": {
          "base_uri": "https://localhost:8080/",
          "height": 330
        },
        "id": "2cd3eb53",
        "outputId": "3bc86f81-16bc-44f3-8582-59785224b903"
      },
      "outputs": [
        {
          "output_type": "execute_result",
          "data": {
            "text/plain": [
              "          c00          c01          c02          c03          c04  \\\n",
              "count  1797.0  1797.000000  1797.000000  1797.000000  1797.000000   \n",
              "mean      0.0     0.303840     5.204786    11.835838    11.848080   \n",
              "std       0.0     0.907192     4.754826     4.248842     4.287388   \n",
              "min       0.0     0.000000     0.000000     0.000000     0.000000   \n",
              "25%       0.0     0.000000     1.000000    10.000000    10.000000   \n",
              "50%       0.0     0.000000     4.000000    13.000000    13.000000   \n",
              "75%       0.0     0.000000     9.000000    15.000000    15.000000   \n",
              "max       0.0     8.000000    16.000000    16.000000    16.000000   \n",
              "\n",
              "               c05          c06          c07          c08          c09  ...  \\\n",
              "count  1797.000000  1797.000000  1797.000000  1797.000000  1797.000000  ...   \n",
              "mean      5.781859     1.362270     0.129661     0.005565     1.993879  ...   \n",
              "std       5.666418     3.325775     1.037383     0.094222     3.196160  ...   \n",
              "min       0.000000     0.000000     0.000000     0.000000     0.000000  ...   \n",
              "25%       0.000000     0.000000     0.000000     0.000000     0.000000  ...   \n",
              "50%       4.000000     0.000000     0.000000     0.000000     0.000000  ...   \n",
              "75%      11.000000     0.000000     0.000000     0.000000     3.000000  ...   \n",
              "max      16.000000    16.000000    15.000000     2.000000    16.000000  ...   \n",
              "\n",
              "               c55          c56          c57          c58          c59  \\\n",
              "count  1797.000000  1797.000000  1797.000000  1797.000000  1797.000000   \n",
              "mean      0.206455     0.000556     0.279354     5.557596    12.089037   \n",
              "std       0.984401     0.023590     0.934302     5.103019     4.374694   \n",
              "min       0.000000     0.000000     0.000000     0.000000     0.000000   \n",
              "25%       0.000000     0.000000     0.000000     1.000000    11.000000   \n",
              "50%       0.000000     0.000000     0.000000     4.000000    13.000000   \n",
              "75%       0.000000     0.000000     0.000000    10.000000    16.000000   \n",
              "max      13.000000     1.000000     9.000000    16.000000    16.000000   \n",
              "\n",
              "               c60          c61          c62          c63       target  \n",
              "count  1797.000000  1797.000000  1797.000000  1797.000000  1797.000000  \n",
              "mean     11.809126     6.764051     2.067891     0.364496     4.490818  \n",
              "std       4.933947     5.900623     4.090548     1.860122     2.865304  \n",
              "min       0.000000     0.000000     0.000000     0.000000     0.000000  \n",
              "25%      10.000000     0.000000     0.000000     0.000000     2.000000  \n",
              "50%      14.000000     6.000000     0.000000     0.000000     4.000000  \n",
              "75%      16.000000    12.000000     2.000000     0.000000     7.000000  \n",
              "max      16.000000    16.000000    16.000000    16.000000     9.000000  \n",
              "\n",
              "[8 rows x 65 columns]"
            ],
            "text/html": [
              "\n",
              "  <div id=\"df-eaa92bb9-4cdd-46e7-a386-3bc6271aa40f\" class=\"colab-df-container\">\n",
              "    <div>\n",
              "<style scoped>\n",
              "    .dataframe tbody tr th:only-of-type {\n",
              "        vertical-align: middle;\n",
              "    }\n",
              "\n",
              "    .dataframe tbody tr th {\n",
              "        vertical-align: top;\n",
              "    }\n",
              "\n",
              "    .dataframe thead th {\n",
              "        text-align: right;\n",
              "    }\n",
              "</style>\n",
              "<table border=\"1\" class=\"dataframe\">\n",
              "  <thead>\n",
              "    <tr style=\"text-align: right;\">\n",
              "      <th></th>\n",
              "      <th>c00</th>\n",
              "      <th>c01</th>\n",
              "      <th>c02</th>\n",
              "      <th>c03</th>\n",
              "      <th>c04</th>\n",
              "      <th>c05</th>\n",
              "      <th>c06</th>\n",
              "      <th>c07</th>\n",
              "      <th>c08</th>\n",
              "      <th>c09</th>\n",
              "      <th>...</th>\n",
              "      <th>c55</th>\n",
              "      <th>c56</th>\n",
              "      <th>c57</th>\n",
              "      <th>c58</th>\n",
              "      <th>c59</th>\n",
              "      <th>c60</th>\n",
              "      <th>c61</th>\n",
              "      <th>c62</th>\n",
              "      <th>c63</th>\n",
              "      <th>target</th>\n",
              "    </tr>\n",
              "  </thead>\n",
              "  <tbody>\n",
              "    <tr>\n",
              "      <th>count</th>\n",
              "      <td>1797.0</td>\n",
              "      <td>1797.000000</td>\n",
              "      <td>1797.000000</td>\n",
              "      <td>1797.000000</td>\n",
              "      <td>1797.000000</td>\n",
              "      <td>1797.000000</td>\n",
              "      <td>1797.000000</td>\n",
              "      <td>1797.000000</td>\n",
              "      <td>1797.000000</td>\n",
              "      <td>1797.000000</td>\n",
              "      <td>...</td>\n",
              "      <td>1797.000000</td>\n",
              "      <td>1797.000000</td>\n",
              "      <td>1797.000000</td>\n",
              "      <td>1797.000000</td>\n",
              "      <td>1797.000000</td>\n",
              "      <td>1797.000000</td>\n",
              "      <td>1797.000000</td>\n",
              "      <td>1797.000000</td>\n",
              "      <td>1797.000000</td>\n",
              "      <td>1797.000000</td>\n",
              "    </tr>\n",
              "    <tr>\n",
              "      <th>mean</th>\n",
              "      <td>0.0</td>\n",
              "      <td>0.303840</td>\n",
              "      <td>5.204786</td>\n",
              "      <td>11.835838</td>\n",
              "      <td>11.848080</td>\n",
              "      <td>5.781859</td>\n",
              "      <td>1.362270</td>\n",
              "      <td>0.129661</td>\n",
              "      <td>0.005565</td>\n",
              "      <td>1.993879</td>\n",
              "      <td>...</td>\n",
              "      <td>0.206455</td>\n",
              "      <td>0.000556</td>\n",
              "      <td>0.279354</td>\n",
              "      <td>5.557596</td>\n",
              "      <td>12.089037</td>\n",
              "      <td>11.809126</td>\n",
              "      <td>6.764051</td>\n",
              "      <td>2.067891</td>\n",
              "      <td>0.364496</td>\n",
              "      <td>4.490818</td>\n",
              "    </tr>\n",
              "    <tr>\n",
              "      <th>std</th>\n",
              "      <td>0.0</td>\n",
              "      <td>0.907192</td>\n",
              "      <td>4.754826</td>\n",
              "      <td>4.248842</td>\n",
              "      <td>4.287388</td>\n",
              "      <td>5.666418</td>\n",
              "      <td>3.325775</td>\n",
              "      <td>1.037383</td>\n",
              "      <td>0.094222</td>\n",
              "      <td>3.196160</td>\n",
              "      <td>...</td>\n",
              "      <td>0.984401</td>\n",
              "      <td>0.023590</td>\n",
              "      <td>0.934302</td>\n",
              "      <td>5.103019</td>\n",
              "      <td>4.374694</td>\n",
              "      <td>4.933947</td>\n",
              "      <td>5.900623</td>\n",
              "      <td>4.090548</td>\n",
              "      <td>1.860122</td>\n",
              "      <td>2.865304</td>\n",
              "    </tr>\n",
              "    <tr>\n",
              "      <th>min</th>\n",
              "      <td>0.0</td>\n",
              "      <td>0.000000</td>\n",
              "      <td>0.000000</td>\n",
              "      <td>0.000000</td>\n",
              "      <td>0.000000</td>\n",
              "      <td>0.000000</td>\n",
              "      <td>0.000000</td>\n",
              "      <td>0.000000</td>\n",
              "      <td>0.000000</td>\n",
              "      <td>0.000000</td>\n",
              "      <td>...</td>\n",
              "      <td>0.000000</td>\n",
              "      <td>0.000000</td>\n",
              "      <td>0.000000</td>\n",
              "      <td>0.000000</td>\n",
              "      <td>0.000000</td>\n",
              "      <td>0.000000</td>\n",
              "      <td>0.000000</td>\n",
              "      <td>0.000000</td>\n",
              "      <td>0.000000</td>\n",
              "      <td>0.000000</td>\n",
              "    </tr>\n",
              "    <tr>\n",
              "      <th>25%</th>\n",
              "      <td>0.0</td>\n",
              "      <td>0.000000</td>\n",
              "      <td>1.000000</td>\n",
              "      <td>10.000000</td>\n",
              "      <td>10.000000</td>\n",
              "      <td>0.000000</td>\n",
              "      <td>0.000000</td>\n",
              "      <td>0.000000</td>\n",
              "      <td>0.000000</td>\n",
              "      <td>0.000000</td>\n",
              "      <td>...</td>\n",
              "      <td>0.000000</td>\n",
              "      <td>0.000000</td>\n",
              "      <td>0.000000</td>\n",
              "      <td>1.000000</td>\n",
              "      <td>11.000000</td>\n",
              "      <td>10.000000</td>\n",
              "      <td>0.000000</td>\n",
              "      <td>0.000000</td>\n",
              "      <td>0.000000</td>\n",
              "      <td>2.000000</td>\n",
              "    </tr>\n",
              "    <tr>\n",
              "      <th>50%</th>\n",
              "      <td>0.0</td>\n",
              "      <td>0.000000</td>\n",
              "      <td>4.000000</td>\n",
              "      <td>13.000000</td>\n",
              "      <td>13.000000</td>\n",
              "      <td>4.000000</td>\n",
              "      <td>0.000000</td>\n",
              "      <td>0.000000</td>\n",
              "      <td>0.000000</td>\n",
              "      <td>0.000000</td>\n",
              "      <td>...</td>\n",
              "      <td>0.000000</td>\n",
              "      <td>0.000000</td>\n",
              "      <td>0.000000</td>\n",
              "      <td>4.000000</td>\n",
              "      <td>13.000000</td>\n",
              "      <td>14.000000</td>\n",
              "      <td>6.000000</td>\n",
              "      <td>0.000000</td>\n",
              "      <td>0.000000</td>\n",
              "      <td>4.000000</td>\n",
              "    </tr>\n",
              "    <tr>\n",
              "      <th>75%</th>\n",
              "      <td>0.0</td>\n",
              "      <td>0.000000</td>\n",
              "      <td>9.000000</td>\n",
              "      <td>15.000000</td>\n",
              "      <td>15.000000</td>\n",
              "      <td>11.000000</td>\n",
              "      <td>0.000000</td>\n",
              "      <td>0.000000</td>\n",
              "      <td>0.000000</td>\n",
              "      <td>3.000000</td>\n",
              "      <td>...</td>\n",
              "      <td>0.000000</td>\n",
              "      <td>0.000000</td>\n",
              "      <td>0.000000</td>\n",
              "      <td>10.000000</td>\n",
              "      <td>16.000000</td>\n",
              "      <td>16.000000</td>\n",
              "      <td>12.000000</td>\n",
              "      <td>2.000000</td>\n",
              "      <td>0.000000</td>\n",
              "      <td>7.000000</td>\n",
              "    </tr>\n",
              "    <tr>\n",
              "      <th>max</th>\n",
              "      <td>0.0</td>\n",
              "      <td>8.000000</td>\n",
              "      <td>16.000000</td>\n",
              "      <td>16.000000</td>\n",
              "      <td>16.000000</td>\n",
              "      <td>16.000000</td>\n",
              "      <td>16.000000</td>\n",
              "      <td>15.000000</td>\n",
              "      <td>2.000000</td>\n",
              "      <td>16.000000</td>\n",
              "      <td>...</td>\n",
              "      <td>13.000000</td>\n",
              "      <td>1.000000</td>\n",
              "      <td>9.000000</td>\n",
              "      <td>16.000000</td>\n",
              "      <td>16.000000</td>\n",
              "      <td>16.000000</td>\n",
              "      <td>16.000000</td>\n",
              "      <td>16.000000</td>\n",
              "      <td>16.000000</td>\n",
              "      <td>9.000000</td>\n",
              "    </tr>\n",
              "  </tbody>\n",
              "</table>\n",
              "<p>8 rows × 65 columns</p>\n",
              "</div>\n",
              "    <div class=\"colab-df-buttons\">\n",
              "\n",
              "  <div class=\"colab-df-container\">\n",
              "    <button class=\"colab-df-convert\" onclick=\"convertToInteractive('df-eaa92bb9-4cdd-46e7-a386-3bc6271aa40f')\"\n",
              "            title=\"Convert this dataframe to an interactive table.\"\n",
              "            style=\"display:none;\">\n",
              "\n",
              "  <svg xmlns=\"http://www.w3.org/2000/svg\" height=\"24px\" viewBox=\"0 -960 960 960\">\n",
              "    <path d=\"M120-120v-720h720v720H120Zm60-500h600v-160H180v160Zm220 220h160v-160H400v160Zm0 220h160v-160H400v160ZM180-400h160v-160H180v160Zm440 0h160v-160H620v160ZM180-180h160v-160H180v160Zm440 0h160v-160H620v160Z\"/>\n",
              "  </svg>\n",
              "    </button>\n",
              "\n",
              "  <style>\n",
              "    .colab-df-container {\n",
              "      display:flex;\n",
              "      gap: 12px;\n",
              "    }\n",
              "\n",
              "    .colab-df-convert {\n",
              "      background-color: #E8F0FE;\n",
              "      border: none;\n",
              "      border-radius: 50%;\n",
              "      cursor: pointer;\n",
              "      display: none;\n",
              "      fill: #1967D2;\n",
              "      height: 32px;\n",
              "      padding: 0 0 0 0;\n",
              "      width: 32px;\n",
              "    }\n",
              "\n",
              "    .colab-df-convert:hover {\n",
              "      background-color: #E2EBFA;\n",
              "      box-shadow: 0px 1px 2px rgba(60, 64, 67, 0.3), 0px 1px 3px 1px rgba(60, 64, 67, 0.15);\n",
              "      fill: #174EA6;\n",
              "    }\n",
              "\n",
              "    .colab-df-buttons div {\n",
              "      margin-bottom: 4px;\n",
              "    }\n",
              "\n",
              "    [theme=dark] .colab-df-convert {\n",
              "      background-color: #3B4455;\n",
              "      fill: #D2E3FC;\n",
              "    }\n",
              "\n",
              "    [theme=dark] .colab-df-convert:hover {\n",
              "      background-color: #434B5C;\n",
              "      box-shadow: 0px 1px 3px 1px rgba(0, 0, 0, 0.15);\n",
              "      filter: drop-shadow(0px 1px 2px rgba(0, 0, 0, 0.3));\n",
              "      fill: #FFFFFF;\n",
              "    }\n",
              "  </style>\n",
              "\n",
              "    <script>\n",
              "      const buttonEl =\n",
              "        document.querySelector('#df-eaa92bb9-4cdd-46e7-a386-3bc6271aa40f button.colab-df-convert');\n",
              "      buttonEl.style.display =\n",
              "        google.colab.kernel.accessAllowed ? 'block' : 'none';\n",
              "\n",
              "      async function convertToInteractive(key) {\n",
              "        const element = document.querySelector('#df-eaa92bb9-4cdd-46e7-a386-3bc6271aa40f');\n",
              "        const dataTable =\n",
              "          await google.colab.kernel.invokeFunction('convertToInteractive',\n",
              "                                                    [key], {});\n",
              "        if (!dataTable) return;\n",
              "\n",
              "        const docLinkHtml = 'Like what you see? Visit the ' +\n",
              "          '<a target=\"_blank\" href=https://colab.research.google.com/notebooks/data_table.ipynb>data table notebook</a>'\n",
              "          + ' to learn more about interactive tables.';\n",
              "        element.innerHTML = '';\n",
              "        dataTable['output_type'] = 'display_data';\n",
              "        await google.colab.output.renderOutput(dataTable, element);\n",
              "        const docLink = document.createElement('div');\n",
              "        docLink.innerHTML = docLinkHtml;\n",
              "        element.appendChild(docLink);\n",
              "      }\n",
              "    </script>\n",
              "  </div>\n",
              "\n",
              "\n",
              "<div id=\"df-c0c39238-3191-43b0-84ba-8883aa2a4b48\">\n",
              "  <button class=\"colab-df-quickchart\" onclick=\"quickchart('df-c0c39238-3191-43b0-84ba-8883aa2a4b48')\"\n",
              "            title=\"Suggest charts.\"\n",
              "            style=\"display:none;\">\n",
              "\n",
              "<svg xmlns=\"http://www.w3.org/2000/svg\" height=\"24px\"viewBox=\"0 0 24 24\"\n",
              "     width=\"24px\">\n",
              "    <g>\n",
              "        <path d=\"M19 3H5c-1.1 0-2 .9-2 2v14c0 1.1.9 2 2 2h14c1.1 0 2-.9 2-2V5c0-1.1-.9-2-2-2zM9 17H7v-7h2v7zm4 0h-2V7h2v10zm4 0h-2v-4h2v4z\"/>\n",
              "    </g>\n",
              "</svg>\n",
              "  </button>\n",
              "\n",
              "<style>\n",
              "  .colab-df-quickchart {\n",
              "      --bg-color: #E8F0FE;\n",
              "      --fill-color: #1967D2;\n",
              "      --hover-bg-color: #E2EBFA;\n",
              "      --hover-fill-color: #174EA6;\n",
              "      --disabled-fill-color: #AAA;\n",
              "      --disabled-bg-color: #DDD;\n",
              "  }\n",
              "\n",
              "  [theme=dark] .colab-df-quickchart {\n",
              "      --bg-color: #3B4455;\n",
              "      --fill-color: #D2E3FC;\n",
              "      --hover-bg-color: #434B5C;\n",
              "      --hover-fill-color: #FFFFFF;\n",
              "      --disabled-bg-color: #3B4455;\n",
              "      --disabled-fill-color: #666;\n",
              "  }\n",
              "\n",
              "  .colab-df-quickchart {\n",
              "    background-color: var(--bg-color);\n",
              "    border: none;\n",
              "    border-radius: 50%;\n",
              "    cursor: pointer;\n",
              "    display: none;\n",
              "    fill: var(--fill-color);\n",
              "    height: 32px;\n",
              "    padding: 0;\n",
              "    width: 32px;\n",
              "  }\n",
              "\n",
              "  .colab-df-quickchart:hover {\n",
              "    background-color: var(--hover-bg-color);\n",
              "    box-shadow: 0 1px 2px rgba(60, 64, 67, 0.3), 0 1px 3px 1px rgba(60, 64, 67, 0.15);\n",
              "    fill: var(--button-hover-fill-color);\n",
              "  }\n",
              "\n",
              "  .colab-df-quickchart-complete:disabled,\n",
              "  .colab-df-quickchart-complete:disabled:hover {\n",
              "    background-color: var(--disabled-bg-color);\n",
              "    fill: var(--disabled-fill-color);\n",
              "    box-shadow: none;\n",
              "  }\n",
              "\n",
              "  .colab-df-spinner {\n",
              "    border: 2px solid var(--fill-color);\n",
              "    border-color: transparent;\n",
              "    border-bottom-color: var(--fill-color);\n",
              "    animation:\n",
              "      spin 1s steps(1) infinite;\n",
              "  }\n",
              "\n",
              "  @keyframes spin {\n",
              "    0% {\n",
              "      border-color: transparent;\n",
              "      border-bottom-color: var(--fill-color);\n",
              "      border-left-color: var(--fill-color);\n",
              "    }\n",
              "    20% {\n",
              "      border-color: transparent;\n",
              "      border-left-color: var(--fill-color);\n",
              "      border-top-color: var(--fill-color);\n",
              "    }\n",
              "    30% {\n",
              "      border-color: transparent;\n",
              "      border-left-color: var(--fill-color);\n",
              "      border-top-color: var(--fill-color);\n",
              "      border-right-color: var(--fill-color);\n",
              "    }\n",
              "    40% {\n",
              "      border-color: transparent;\n",
              "      border-right-color: var(--fill-color);\n",
              "      border-top-color: var(--fill-color);\n",
              "    }\n",
              "    60% {\n",
              "      border-color: transparent;\n",
              "      border-right-color: var(--fill-color);\n",
              "    }\n",
              "    80% {\n",
              "      border-color: transparent;\n",
              "      border-right-color: var(--fill-color);\n",
              "      border-bottom-color: var(--fill-color);\n",
              "    }\n",
              "    90% {\n",
              "      border-color: transparent;\n",
              "      border-bottom-color: var(--fill-color);\n",
              "    }\n",
              "  }\n",
              "</style>\n",
              "\n",
              "  <script>\n",
              "    async function quickchart(key) {\n",
              "      const quickchartButtonEl =\n",
              "        document.querySelector('#' + key + ' button');\n",
              "      quickchartButtonEl.disabled = true;  // To prevent multiple clicks.\n",
              "      quickchartButtonEl.classList.add('colab-df-spinner');\n",
              "      try {\n",
              "        const charts = await google.colab.kernel.invokeFunction(\n",
              "            'suggestCharts', [key], {});\n",
              "      } catch (error) {\n",
              "        console.error('Error during call to suggestCharts:', error);\n",
              "      }\n",
              "      quickchartButtonEl.classList.remove('colab-df-spinner');\n",
              "      quickchartButtonEl.classList.add('colab-df-quickchart-complete');\n",
              "    }\n",
              "    (() => {\n",
              "      let quickchartButtonEl =\n",
              "        document.querySelector('#df-c0c39238-3191-43b0-84ba-8883aa2a4b48 button');\n",
              "      quickchartButtonEl.style.display =\n",
              "        google.colab.kernel.accessAllowed ? 'block' : 'none';\n",
              "    })();\n",
              "  </script>\n",
              "</div>\n",
              "    </div>\n",
              "  </div>\n"
            ]
          },
          "metadata": {},
          "execution_count": 8
        }
      ],
      "source": [
        "digits.describe() #Un describe de los datos y ver que el comportamiento es similar en todos, ademas hay 1797 regi"
      ]
    },
    {
      "cell_type": "code",
      "source": [
        "digits.isnull().sum() #No hay datos nulos"
      ],
      "metadata": {
        "colab": {
          "base_uri": "https://localhost:8080/"
        },
        "id": "1d5P5ZXVGnMy",
        "outputId": "d194a982-200e-48eb-e840-ab2fd089c960"
      },
      "id": "1d5P5ZXVGnMy",
      "execution_count": 9,
      "outputs": [
        {
          "output_type": "execute_result",
          "data": {
            "text/plain": [
              "c00       0\n",
              "c01       0\n",
              "c02       0\n",
              "c03       0\n",
              "c04       0\n",
              "         ..\n",
              "c60       0\n",
              "c61       0\n",
              "c62       0\n",
              "c63       0\n",
              "target    0\n",
              "Length: 65, dtype: int64"
            ]
          },
          "metadata": {},
          "execution_count": 9
        }
      ]
    },
    {
      "cell_type": "code",
      "source": [
        "digits.dtypes #el tipo de datos son int64"
      ],
      "metadata": {
        "colab": {
          "base_uri": "https://localhost:8080/"
        },
        "id": "WB0eIvskGpJ-",
        "outputId": "fa8ab8d0-5518-43ce-eb7f-7f776a5c6abc"
      },
      "id": "WB0eIvskGpJ-",
      "execution_count": 10,
      "outputs": [
        {
          "output_type": "execute_result",
          "data": {
            "text/plain": [
              "c00       int64\n",
              "c01       int64\n",
              "c02       int64\n",
              "c03       int64\n",
              "c04       int64\n",
              "          ...  \n",
              "c60       int64\n",
              "c61       int64\n",
              "c62       int64\n",
              "c63       int64\n",
              "target    int64\n",
              "Length: 65, dtype: object"
            ]
          },
          "metadata": {},
          "execution_count": 10
        }
      ]
    },
    {
      "cell_type": "code",
      "source": [
        "digits.info() #Se usan 912.7 KB"
      ],
      "metadata": {
        "colab": {
          "base_uri": "https://localhost:8080/"
        },
        "id": "vtWHzm-NGtCw",
        "outputId": "88cac485-6adc-4772-d74d-000ac75c67ea"
      },
      "id": "vtWHzm-NGtCw",
      "execution_count": 11,
      "outputs": [
        {
          "output_type": "stream",
          "name": "stdout",
          "text": [
            "<class 'pandas.core.frame.DataFrame'>\n",
            "RangeIndex: 1797 entries, 0 to 1796\n",
            "Data columns (total 65 columns):\n",
            " #   Column  Non-Null Count  Dtype\n",
            "---  ------  --------------  -----\n",
            " 0   c00     1797 non-null   int64\n",
            " 1   c01     1797 non-null   int64\n",
            " 2   c02     1797 non-null   int64\n",
            " 3   c03     1797 non-null   int64\n",
            " 4   c04     1797 non-null   int64\n",
            " 5   c05     1797 non-null   int64\n",
            " 6   c06     1797 non-null   int64\n",
            " 7   c07     1797 non-null   int64\n",
            " 8   c08     1797 non-null   int64\n",
            " 9   c09     1797 non-null   int64\n",
            " 10  c10     1797 non-null   int64\n",
            " 11  c11     1797 non-null   int64\n",
            " 12  c12     1797 non-null   int64\n",
            " 13  c13     1797 non-null   int64\n",
            " 14  c14     1797 non-null   int64\n",
            " 15  c15     1797 non-null   int64\n",
            " 16  c16     1797 non-null   int64\n",
            " 17  c17     1797 non-null   int64\n",
            " 18  c18     1797 non-null   int64\n",
            " 19  c19     1797 non-null   int64\n",
            " 20  c20     1797 non-null   int64\n",
            " 21  c21     1797 non-null   int64\n",
            " 22  c22     1797 non-null   int64\n",
            " 23  c23     1797 non-null   int64\n",
            " 24  c24     1797 non-null   int64\n",
            " 25  c25     1797 non-null   int64\n",
            " 26  c26     1797 non-null   int64\n",
            " 27  c27     1797 non-null   int64\n",
            " 28  c28     1797 non-null   int64\n",
            " 29  c29     1797 non-null   int64\n",
            " 30  c30     1797 non-null   int64\n",
            " 31  c31     1797 non-null   int64\n",
            " 32  c32     1797 non-null   int64\n",
            " 33  c33     1797 non-null   int64\n",
            " 34  c34     1797 non-null   int64\n",
            " 35  c35     1797 non-null   int64\n",
            " 36  c36     1797 non-null   int64\n",
            " 37  c37     1797 non-null   int64\n",
            " 38  c38     1797 non-null   int64\n",
            " 39  c39     1797 non-null   int64\n",
            " 40  c40     1797 non-null   int64\n",
            " 41  c41     1797 non-null   int64\n",
            " 42  c42     1797 non-null   int64\n",
            " 43  c43     1797 non-null   int64\n",
            " 44  c44     1797 non-null   int64\n",
            " 45  c45     1797 non-null   int64\n",
            " 46  c46     1797 non-null   int64\n",
            " 47  c47     1797 non-null   int64\n",
            " 48  c48     1797 non-null   int64\n",
            " 49  c49     1797 non-null   int64\n",
            " 50  c50     1797 non-null   int64\n",
            " 51  c51     1797 non-null   int64\n",
            " 52  c52     1797 non-null   int64\n",
            " 53  c53     1797 non-null   int64\n",
            " 54  c54     1797 non-null   int64\n",
            " 55  c55     1797 non-null   int64\n",
            " 56  c56     1797 non-null   int64\n",
            " 57  c57     1797 non-null   int64\n",
            " 58  c58     1797 non-null   int64\n",
            " 59  c59     1797 non-null   int64\n",
            " 60  c60     1797 non-null   int64\n",
            " 61  c61     1797 non-null   int64\n",
            " 62  c62     1797 non-null   int64\n",
            " 63  c63     1797 non-null   int64\n",
            " 64  target  1797 non-null   int64\n",
            "dtypes: int64(65)\n",
            "memory usage: 912.7 KB\n"
          ]
        }
      ]
    },
    {
      "cell_type": "markdown",
      "id": "73e45cec",
      "metadata": {
        "id": "73e45cec"
      },
      "source": [
        "### Ejercicio 2\n",
        "**Visualización:** Para visualizar los datos utilizaremos el método `imshow` de `matplotlib`. Resulta necesario convertir el arreglo desde las dimensiones (1,64)  a (8,8) para que la imagen sea cuadrada y pueda distinguirse el dígito. Superpondremos además el label correspondiente al dígito, mediante el método `text`. Esto nos permitirá comparar la imagen generada con la etiqueta asociada a los valores. Realizaremos lo anterior para los primeros 25 datos del archivo."
      ]
    },
    {
      "cell_type": "code",
      "execution_count": 12,
      "id": "f5d60d0f",
      "metadata": {
        "colab": {
          "base_uri": "https://localhost:8080/"
        },
        "id": "f5d60d0f",
        "outputId": "f7b5245d-b2fa-4935-dce4-d6654e53795f"
      },
      "outputs": [
        {
          "output_type": "execute_result",
          "data": {
            "text/plain": [
              "array([[ 0.,  0.,  5., 13.,  9.,  1.,  0.,  0.],\n",
              "       [ 0.,  0., 13., 15., 10., 15.,  5.,  0.],\n",
              "       [ 0.,  3., 15.,  2.,  0., 11.,  8.,  0.],\n",
              "       [ 0.,  4., 12.,  0.,  0.,  8.,  8.,  0.],\n",
              "       [ 0.,  5.,  8.,  0.,  0.,  9.,  8.,  0.],\n",
              "       [ 0.,  4., 11.,  0.,  1., 12.,  7.,  0.],\n",
              "       [ 0.,  2., 14.,  5., 10., 12.,  0.,  0.],\n",
              "       [ 0.,  0.,  6., 13., 10.,  0.,  0.,  0.]])"
            ]
          },
          "metadata": {},
          "execution_count": 12
        }
      ],
      "source": [
        "digits_dict[\"images\"][0]"
      ]
    },
    {
      "cell_type": "markdown",
      "id": "b91c9bf4",
      "metadata": {
        "id": "b91c9bf4"
      },
      "source": [
        "Visualiza imágenes de los dígitos utilizando la llave `images` de `digits_dict`.\n",
        "\n",
        "> **Sugerencia**: Utiliza `plt.subplots` y el método `imshow`. Puedes hacer una grilla de varias imágenes al mismo tiempo!"
      ]
    },
    {
      "cell_type": "code",
      "execution_count": 13,
      "id": "4d161dae",
      "metadata": {
        "colab": {
          "base_uri": "https://localhost:8080/",
          "height": 984
        },
        "id": "4d161dae",
        "outputId": "b2d1d8cc-237d-44ec-8d6b-12844b27e5eb"
      },
      "outputs": [
        {
          "output_type": "display_data",
          "data": {
            "text/plain": [
              "<Figure size 1200x1200 with 25 Axes>"
            ],
            "image/png": "[encoded data removed]"
          },
          "metadata": {}
        }
      ],
      "source": [
        "nx, ny = 5, 5\n",
        "fig, axs = plt.subplots(nx, ny, figsize=(12, 12))\n",
        "\n",
        "for i in range(25): #se usan 25 pues es 5*5\n",
        "    axs[i//5,i%5].imshow(digits_dict[\"images\"][i]) #se usa la llave \"images\""
      ]
    },
    {
      "cell_type": "markdown",
      "id": "972fecb6",
      "metadata": {
        "id": "972fecb6"
      },
      "source": [
        "### Ejercicio 3\n",
        "\n",
        "**Machine Learning**: En esta parte usted debe entrenar los distintos modelos escogidos desde la librería de `skelearn`. Para cada modelo, debe realizar los siguientes pasos:\n",
        "\n",
        "* **train-test**\n",
        "     * Crear conjunto de entrenamiento y testeo (usted determine las proporciones adecuadas).\n",
        "     * Imprimir por pantalla el largo del conjunto de entrenamiento y de testeo.\n",
        "  \n",
        "* **modelo**:\n",
        "     * Instanciar el modelo objetivo desde la librería sklearn.\n",
        "\n",
        "* **Métricas**:\n",
        "     * Graficar matriz de confusión.\n",
        "     * Analizar métricas de error.\n",
        "\n",
        "\n",
        "\n",
        "__Preguntas a responder:__\n",
        "\n",
        "* ¿Cuál modelo es mejor basado en sus métricas?\n",
        "* ¿Cuál modelo demora menos tiempo en ajustarse?\n",
        "* ¿Qué modelo escoges?\n"
      ]
    },
    {
      "cell_type": "code",
      "source": [
        "#Librerías\n",
        "from sklearn import datasets\n",
        "from sklearn.model_selection import train_test_split\n",
        "from sklearn.metrics import confusion_matrix,accuracy_score,recall_score,precision_score,f1_score\n",
        "from sklearn.dummy import DummyClassifier\n",
        "from sklearn.linear_model import LogisticRegression\n",
        "from sklearn.ensemble import RandomForestClassifier\n",
        "from sklearn.neighbors import KNeighborsClassifier\n",
        "from sklearn import neighbors\n",
        "from sklearn import preprocessing"
      ],
      "metadata": {
        "id": "pABrbzIwG9j7"
      },
      "id": "pABrbzIwG9j7",
      "execution_count": 14,
      "outputs": []
    },
    {
      "cell_type": "code",
      "execution_count": 15,
      "id": "81c11dae",
      "metadata": {
        "id": "81c11dae"
      },
      "outputs": [],
      "source": [
        "# features, target\n",
        "\n",
        "X = digits.drop(columns=\"target\").values\n",
        "y = digits[\"target\"].values"
      ]
    },
    {
      "cell_type": "code",
      "source": [
        "# split dataset\n",
        "X_train, X_test, y_train, y_test = train_test_split(X, y, test_size=0.15, random_state=150)"
      ],
      "metadata": {
        "id": "m2Ua4igTHCDN"
      },
      "id": "m2Ua4igTHCDN",
      "execution_count": 16,
      "outputs": []
    },
    {
      "cell_type": "code",
      "source": [
        "print(\"Largo Grupo entrenamiento:\\n\", len(X_train))\n",
        "print(\"Largo Grupo de testeo:\\n\", len(X_test))"
      ],
      "metadata": {
        "colab": {
          "base_uri": "https://localhost:8080/"
        },
        "id": "i6qYayyBHEIj",
        "outputId": "d61ea860-10f9-403f-b6c3-1b6e39dcd3b3"
      },
      "id": "i6qYayyBHEIj",
      "execution_count": 17,
      "outputs": [
        {
          "output_type": "stream",
          "name": "stdout",
          "text": [
            "Largo Grupo entrenamiento:\n",
            " 1527\n",
            "Largo Grupo de testeo:\n",
            " 270\n"
          ]
        }
      ]
    },
    {
      "cell_type": "markdown",
      "source": [
        "Regresión Logística\n",
        "\n"
      ],
      "metadata": {
        "id": "rHeaq8g4HIBr"
      },
      "id": "rHeaq8g4HIBr"
    },
    {
      "cell_type": "code",
      "source": [
        "#MODELO DE REGRESION LOGISTICA\n",
        "lr = LogisticRegression(solver='liblinear').fit(X_train, y_train)\n",
        "\n",
        "# predecir\n",
        "lr_pred = lr.predict(X_test)\n",
        "y_true = y_test\n",
        "\n",
        "#Guardamos los datos para la comparativa final\n",
        "accuracy1=accuracy_score(y_test, lr_pred)\n",
        "recall1=recall_score(y_test, lr_pred,average='weighted')\n",
        "precision1=precision_score(y_test, lr_pred,average='weighted' )\n",
        "fscore1=f1_score(y_test, lr_pred,average='weighted')\n",
        "\n",
        "print('\\nMatriz de confusion:\\n ')\n",
        "print(confusion_matrix(y_true,lr_pred))\n",
        "\n",
        "print('\\nMetricas:\\n ')\n",
        "print('accuracy:   ',accuracy1)\n",
        "print('recall:     ',recall1)\n",
        "print('precision:  ',precision1)\n",
        "print('f-score:    ',fscore1)\n",
        "print(\"\")"
      ],
      "metadata": {
        "colab": {
          "base_uri": "https://localhost:8080/"
        },
        "id": "eEA7naSSHKbE",
        "outputId": "78106a34-260c-4684-a505-b019d682f8a3"
      },
      "id": "eEA7naSSHKbE",
      "execution_count": 18,
      "outputs": [
        {
          "output_type": "stream",
          "name": "stdout",
          "text": [
            "\n",
            "Matriz de confusion:\n",
            " \n",
            "[[27  0  0  0  0  1  0  0  0  0]\n",
            " [ 0 29  0  0  0  0  1  0  4  0]\n",
            " [ 0  0 32  0  0  0  0  0  0  0]\n",
            " [ 0  0  0 23  0  0  0  0  1  0]\n",
            " [ 0  1  0  0 20  0  0  0  0  0]\n",
            " [ 0  1  0  0  0 20  0  0  0  0]\n",
            " [ 0  0  0  0  0  0 30  0  0  0]\n",
            " [ 0  0  0  0  0  0  0 25  0  1]\n",
            " [ 0  1  0  0  0  0  0  0 22  0]\n",
            " [ 0  0  0  1  0  0  0  0  1 29]]\n",
            "\n",
            "Metricas:\n",
            " \n",
            "accuracy:    0.9518518518518518\n",
            "recall:      0.9518518518518518\n",
            "precision:   0.9551216788985606\n",
            "f-score:     0.9524979323646522\n",
            "\n"
          ]
        }
      ]
    },
    {
      "cell_type": "code",
      "source": [
        "from sklearn.svm import SVC\n",
        "from sklearn.model_selection import GridSearchCV\n",
        "from sklearn.model_selection import train_test_split\n",
        "import time\n",
        "\n",
        "#Diccionario de Hiperparámetros\n",
        "dicc_rlog = {\n",
        "          'penalty' : ['l1', 'l2'],\n",
        "          'C' : [100, 10 , 1, 0.1, 0.01, 0.001],\n",
        "          'class_weight' : ['balanced', None],\n",
        "          'solver' : ['liblinear'],\n",
        "          }\n",
        "grid_lr = GridSearchCV(estimator = lr, param_grid = dicc_rlog, refit = True, n_jobs=-1)\n",
        "\n",
        "start_time = time.time() #Tiempo de inicio\n",
        "\n",
        "grid_result_lr = grid_lr.fit(X_train, y_train)\n",
        "grid_result_lr\n",
        "print(\"Tuned Hyperparameters :\", grid_result_lr.best_params_)\n",
        "print(\"Accuracy :\",grid_result_lr.best_score_)\n",
        "print(\"Este modelo se ajustó en\",(time.time() - start_time),\"segundos.\")"
      ],
      "metadata": {
        "colab": {
          "base_uri": "https://localhost:8080/"
        },
        "id": "qXnSCuScHVrQ",
        "outputId": "fd1b5fe0-cd3f-448c-da77-75f7e062faa1"
      },
      "id": "qXnSCuScHVrQ",
      "execution_count": 19,
      "outputs": [
        {
          "output_type": "stream",
          "name": "stdout",
          "text": [
            "Tuned Hyperparameters : {'C': 0.01, 'class_weight': 'balanced', 'penalty': 'l2', 'solver': 'liblinear'}\n",
            "Accuracy : 0.9679031393978356\n",
            "Este modelo se ajustó en 45.23750829696655 segundos.\n"
          ]
        }
      ]
    },
    {
      "cell_type": "code",
      "source": [
        "#MODELO REGRESION LOGISTICA HIPERPARAMETROS\n",
        "lrg = LogisticRegression(C=0.01, class_weight='balanced', penalty='l2', solver = 'liblinear').fit(X_train, y_train)\n",
        "\n",
        "# predecir\n",
        "lr_pred = lrg.predict(X_test)\n",
        "y_true = y_test\n",
        "\n",
        "#Guardamos los datos para la comparativa final\n",
        "accuracy2=accuracy_score(y_test, lr_pred)\n",
        "recall2=recall_score(y_test, lr_pred,average='weighted')\n",
        "precision2=precision_score(y_test, lr_pred,average='weighted' )\n",
        "fscore2=f1_score(y_test, lr_pred,average='weighted')\n",
        "\n",
        "print('\\nMatriz de confusion:\\n ')\n",
        "print(confusion_matrix(y_true,lr_pred))\n",
        "\n",
        "print('\\nMetricas:\\n ')\n",
        "print('accuracy:   ',accuracy2)\n",
        "print('recall:     ',recall2)\n",
        "print('precision:  ',precision2)\n",
        "print('f-score:    ',fscore2)\n",
        "print(\"\")"
      ],
      "metadata": {
        "colab": {
          "base_uri": "https://localhost:8080/"
        },
        "id": "LKqqVhx9Hzil",
        "outputId": "18b27ea7-fc90-4a70-9ce0-fa680b444ca8"
      },
      "id": "LKqqVhx9Hzil",
      "execution_count": 20,
      "outputs": [
        {
          "output_type": "stream",
          "name": "stdout",
          "text": [
            "\n",
            "Matriz de confusion:\n",
            " \n",
            "[[27  0  0  0  0  1  0  0  0  0]\n",
            " [ 0 30  0  0  0  0  1  0  3  0]\n",
            " [ 0  0 32  0  0  0  0  0  0  0]\n",
            " [ 0  0  0 23  0  0  0  0  1  0]\n",
            " [ 0  0  0  0 21  0  0  0  0  0]\n",
            " [ 0  0  0  0  0 20  1  0  0  0]\n",
            " [ 0  0  0  0  0  0 30  0  0  0]\n",
            " [ 0  0  0  0  0  0  0 25  0  1]\n",
            " [ 0  1  0  0  0  0  1  0 21  0]\n",
            " [ 0  0  0  0  0  0  0  0  1 30]]\n",
            "\n",
            "Metricas:\n",
            " \n",
            "accuracy:    0.9592592592592593\n",
            "recall:      0.9592592592592593\n",
            "precision:   0.9620476894670442\n",
            "f-score:     0.9597807279325844\n",
            "\n"
          ]
        }
      ]
    },
    {
      "cell_type": "markdown",
      "source": [
        "Podemos ver que el modelo con los hiperparámetros ajustados solo mejora un poco al modelo de regresión logística sin hiperparámetros ajustados."
      ],
      "metadata": {
        "id": "J4MlpF2dH23Z"
      },
      "id": "J4MlpF2dH23Z"
    },
    {
      "cell_type": "markdown",
      "source": [
        "KNN"
      ],
      "metadata": {
        "id": "cM81lqSxH40n"
      },
      "id": "cM81lqSxH40n"
    },
    {
      "cell_type": "code",
      "source": [
        "#MODELO KNN\n",
        "knn = neighbors.KNeighborsClassifier().fit(X_train, y_train)\n",
        "\n",
        "# predecir\n",
        "knn_pred = knn.predict(X_test)\n",
        "y_true = y_test\n",
        "\n",
        "#Guardamos los datos para la comparativa final\n",
        "accuracy3=accuracy_score(y_test, knn_pred)\n",
        "recall3=recall_score(y_test, knn_pred,average='weighted')\n",
        "precision3=precision_score(y_test, knn_pred,average='weighted' )\n",
        "fscore3=f1_score(y_test, knn_pred,average='weighted')\n",
        "\n",
        "print('\\nMatriz de confusion:\\n ')\n",
        "print(confusion_matrix(y_true,knn_pred))\n",
        "\n",
        "print('\\nMetricas:\\n ')\n",
        "print('accuracy:   ',accuracy3)\n",
        "print('recall:     ',recall3)\n",
        "print('precision:  ',precision3)\n",
        "print('f-score:    ',fscore3)\n",
        "print(\"\")"
      ],
      "metadata": {
        "colab": {
          "base_uri": "https://localhost:8080/"
        },
        "id": "HHzZ7alCH6wj",
        "outputId": "276dd5b7-03be-4e7c-953c-c44f6141f8b6"
      },
      "id": "HHzZ7alCH6wj",
      "execution_count": 21,
      "outputs": [
        {
          "output_type": "stream",
          "name": "stdout",
          "text": [
            "\n",
            "Matriz de confusion:\n",
            " \n",
            "[[28  0  0  0  0  0  0  0  0  0]\n",
            " [ 0 34  0  0  0  0  0  0  0  0]\n",
            " [ 0  0 32  0  0  0  0  0  0  0]\n",
            " [ 0  0  0 24  0  0  0  0  0  0]\n",
            " [ 0  0  0  0 21  0  0  0  0  0]\n",
            " [ 0  0  0  0  0 20  1  0  0  0]\n",
            " [ 0  0  0  0  0  0 30  0  0  0]\n",
            " [ 0  0  0  0  0  0  0 26  0  0]\n",
            " [ 0  1  0  0  0  0  0  0 22  0]\n",
            " [ 0  0  0  0  1  0  0  0  0 30]]\n",
            "\n",
            "Metricas:\n",
            " \n",
            "accuracy:    0.9888888888888889\n",
            "recall:      0.9888888888888889\n",
            "precision:   0.9892825334760817\n",
            "f-score:     0.988872474261948\n",
            "\n"
          ]
        }
      ]
    },
    {
      "cell_type": "code",
      "source": [
        "#Diccionario de Hiperparámetros\n",
        "dicc_knn = {\n",
        "          'n_neighbors' : [1,2,3,4,5, 6, 10, 15,30],\n",
        "          'weights' : ['uniform', 'distance'],\n",
        "          'metric' : ['euclidean', 'minkowski'],\n",
        "          'algorithm' : ['auto','brute', 'kd_tree']\n",
        "          }\n",
        "\n",
        "\n",
        "grid_knn = GridSearchCV(estimator = knn, param_grid = dicc_knn, cv = 20)\n",
        "\n",
        "start_time = time.time() #Tiempo de inicio\n",
        "\n",
        "grid_result_knn = grid_knn.fit(X_train, y_train)\n",
        "print(\"Tuned Hyperparameters :\", grid_knn.best_params_)\n",
        "print(\"Accuracy :\",grid_knn.best_score_)\n",
        "print(\"Este modelo se ajustó en\",(time.time() - start_time),\"segundos.\")"
      ],
      "metadata": {
        "colab": {
          "base_uri": "https://localhost:8080/"
        },
        "id": "4PPe_MoZH-LQ",
        "outputId": "349479e0-e75e-47d7-d137-40d4e396759e"
      },
      "id": "4PPe_MoZH-LQ",
      "execution_count": 22,
      "outputs": [
        {
          "output_type": "stream",
          "name": "stdout",
          "text": [
            "Tuned Hyperparameters : {'algorithm': 'kd_tree', 'metric': 'euclidean', 'n_neighbors': 3, 'weights': 'uniform'}\n",
            "Accuracy : 0.9882347915242653\n",
            "Este modelo se ajustó en 37.43466591835022 segundos.\n"
          ]
        }
      ]
    },
    {
      "cell_type": "code",
      "source": [
        "#MODELO KNN HIPERPARAMETROS\n",
        "knng = neighbors.KNeighborsClassifier(algorithm = 'kd_tree', metric= 'euclidean', n_neighbors=3, weights='uniform').fit(X_train, y_train)\n",
        "\n",
        "# predecir\n",
        "knng_pred = knng.predict(X_test)\n",
        "y_true = y_test\n",
        "\n",
        "#Guardamos los datos para la comparativa final\n",
        "accuracy4=accuracy_score(y_test, knng_pred)\n",
        "recall4=recall_score(y_test, knng_pred,average='weighted')\n",
        "precision4=precision_score(y_test, knng_pred,average='weighted' )\n",
        "fscore4=f1_score(y_test, knng_pred,average='weighted')\n",
        "\n",
        "print('\\nMatriz de confusion:\\n ')\n",
        "print(confusion_matrix(y_true,knng_pred))\n",
        "\n",
        "print('\\nMetricas:\\n ')\n",
        "print('accuracy:   ',accuracy4)\n",
        "print('recall:     ',recall4)\n",
        "print('precision:  ',precision4)\n",
        "print('f-score:    ',fscore4)\n",
        "print(\"\")"
      ],
      "metadata": {
        "colab": {
          "base_uri": "https://localhost:8080/"
        },
        "id": "u6WUtuWTIJA9",
        "outputId": "f65d986e-506e-4c82-ccfd-58274933fd3a"
      },
      "id": "u6WUtuWTIJA9",
      "execution_count": 23,
      "outputs": [
        {
          "output_type": "stream",
          "name": "stdout",
          "text": [
            "\n",
            "Matriz de confusion:\n",
            " \n",
            "[[28  0  0  0  0  0  0  0  0  0]\n",
            " [ 0 34  0  0  0  0  0  0  0  0]\n",
            " [ 0  0 32  0  0  0  0  0  0  0]\n",
            " [ 0  0  0 24  0  0  0  0  0  0]\n",
            " [ 0  0  0  0 21  0  0  0  0  0]\n",
            " [ 0  0  0  0  0 20  1  0  0  0]\n",
            " [ 0  0  0  0  0  0 30  0  0  0]\n",
            " [ 0  0  0  0  0  0  0 25  0  1]\n",
            " [ 0  1  0  0  0  0  0  0 22  0]\n",
            " [ 0  0  0  0  1  0  0  0  0 30]]\n",
            "\n",
            "Metricas:\n",
            " \n",
            "accuracy:    0.9851851851851852\n",
            "recall:      0.9851851851851852\n",
            "precision:   0.9855788297723781\n",
            "f-score:     0.9851628179646994\n",
            "\n"
          ]
        }
      ]
    },
    {
      "cell_type": "markdown",
      "source": [
        "Notemos ninguna métrica mejoró.\n",
        "\n"
      ],
      "metadata": {
        "id": "nitcMYuQISDK"
      },
      "id": "nitcMYuQISDK"
    },
    {
      "cell_type": "markdown",
      "source": [
        "Random Forest"
      ],
      "metadata": {
        "id": "tP1e3o6zIVN-"
      },
      "id": "tP1e3o6zIVN-"
    },
    {
      "cell_type": "code",
      "source": [
        "#MODELO RANDOMFOREST\n",
        "rfc =  RandomForestClassifier(n_estimators=100)\n",
        "rfc.fit(X_train,y_train)\n",
        "\n",
        "#predecir\n",
        "y_true =  y_test\n",
        "rfc_pred = rfc.predict(X_test)\n",
        "\n",
        "#Guardamos los datos para la comparativa final\n",
        "accuracy5=accuracy_score(y_true, rfc_pred)\n",
        "recall5=recall_score(y_true, rfc_pred,average='weighted')\n",
        "precision5=precision_score(y_true, rfc_pred,average='weighted')\n",
        "fscore5=f1_score(y_true, rfc_pred,average='weighted')\n",
        "\n",
        "print('\\nMatriz de confusion:\\n ')\n",
        "print(confusion_matrix(y_true,knn_pred))\n",
        "\n",
        "print('\\nMetricas:\\n ')\n",
        "print('accuracy:   ',accuracy5)\n",
        "print('recall:     ',recall5)\n",
        "print('precision:  ',precision5)\n",
        "print('f-score:    ',fscore5)\n",
        "print(\"\")"
      ],
      "metadata": {
        "colab": {
          "base_uri": "https://localhost:8080/"
        },
        "id": "yq0bdVI2IXo0",
        "outputId": "c7be9e7d-91ac-42ed-e515-efde2e8023fb"
      },
      "id": "yq0bdVI2IXo0",
      "execution_count": 24,
      "outputs": [
        {
          "output_type": "stream",
          "name": "stdout",
          "text": [
            "\n",
            "Matriz de confusion:\n",
            " \n",
            "[[28  0  0  0  0  0  0  0  0  0]\n",
            " [ 0 34  0  0  0  0  0  0  0  0]\n",
            " [ 0  0 32  0  0  0  0  0  0  0]\n",
            " [ 0  0  0 24  0  0  0  0  0  0]\n",
            " [ 0  0  0  0 21  0  0  0  0  0]\n",
            " [ 0  0  0  0  0 20  1  0  0  0]\n",
            " [ 0  0  0  0  0  0 30  0  0  0]\n",
            " [ 0  0  0  0  0  0  0 26  0  0]\n",
            " [ 0  1  0  0  0  0  0  0 22  0]\n",
            " [ 0  0  0  0  1  0  0  0  0 30]]\n",
            "\n",
            "Metricas:\n",
            " \n",
            "accuracy:    0.9777777777777777\n",
            "recall:      0.9777777777777777\n",
            "precision:   0.978130786117438\n",
            "f-score:     0.9776539457797846\n",
            "\n"
          ]
        }
      ]
    },
    {
      "cell_type": "code",
      "source": [
        "from sklearn.model_selection import RandomizedSearchCV\n",
        "# Number of trees in random forest\n",
        "n_estimators = [int(x) for x in np.linspace(start = 100, stop = 300, num = 10)]\n",
        "# Number of features to consider at every split\n",
        "max_features = ['auto', 'sqrt']\n",
        "# Maximum number of levels in tree\n",
        "max_depth = [int(x) for x in np.linspace(10, 110, num = 11)]\n",
        "max_depth.append(None)\n",
        "# Minimum number of samples required to split a node\n",
        "min_samples_split = [2, 5, 10]\n",
        "# Minimum number of samples required at each leaf node\n",
        "min_samples_leaf = [1, 2, 4]\n",
        "# Method of selecting samples for training each tree\n",
        "bootstrap = [True, False]\n",
        "# Create the random grid\n",
        "random_grid = {'n_estimators': n_estimators,\n",
        "               'max_features': max_features,\n",
        "               'max_depth': max_depth,\n",
        "               'min_samples_split': min_samples_split,\n",
        "               'min_samples_leaf': min_samples_leaf,\n",
        "               'bootstrap': bootstrap}\n",
        "# Use the random grid to search for best hyperparameters\n",
        "\n",
        "\n",
        "rfc_random = RandomizedSearchCV(estimator = rfc, param_distributions = random_grid, n_iter = 20, cv = 3, verbose=2, random_state=42, n_jobs = -1)\n",
        "# Fit the random search model\n",
        "\n",
        "start_time = time.time() #Tiempo de inicio\n",
        "rfc_random.fit(X_train, y_train)\n",
        "print(\"Este modelo se ajustó en\",(time.time() - start_time),\"segundos.\")\n",
        "print(rfc_random.best_params_)"
      ],
      "metadata": {
        "colab": {
          "base_uri": "https://localhost:8080/"
        },
        "id": "X7jgVbcfIcdP",
        "outputId": "34a8c3f4-674d-40d8-a2fa-f2941577ed94"
      },
      "id": "X7jgVbcfIcdP",
      "execution_count": 25,
      "outputs": [
        {
          "output_type": "stream",
          "name": "stdout",
          "text": [
            "Fitting 3 folds for each of 20 candidates, totalling 60 fits\n",
            "Este modelo se ajustó en 38.86295938491821 segundos.\n",
            "{'n_estimators': 166, 'min_samples_split': 2, 'min_samples_leaf': 1, 'max_features': 'sqrt', 'max_depth': 20, 'bootstrap': False}\n"
          ]
        }
      ]
    },
    {
      "cell_type": "code",
      "source": [
        "#MODELO RANDOMFOREST HIPERPARAMETROS\n",
        "rfcg =  RandomForestClassifier(n_estimators=144,min_samples_split=2,min_samples_leaf=2,max_features='auto',max_depth=60, bootstrap=False).fit(X_train,y_train)\n",
        "\n",
        "#predecir\n",
        "y_true =  y_test\n",
        "rfcg_pred = rfcg.predict(X_test)\n",
        "\n",
        "#Guardamos los datos para la comparativa final\n",
        "accuracy6=accuracy_score(y_true, rfcg_pred)\n",
        "recall6=recall_score(y_true, rfcg_pred,average='weighted')\n",
        "precision6=precision_score(y_true, rfcg_pred,average='weighted')\n",
        "fscore6=f1_score(y_true, rfcg_pred,average='weighted')\n",
        "\n",
        "print('\\nMatriz de confusion:\\n ')\n",
        "print(confusion_matrix(y_true,knn_pred))\n",
        "\n",
        "print('\\nMetricas:\\n ')\n",
        "print('accuracy:   ',accuracy6)\n",
        "print('recall:     ',recall6)\n",
        "print('precision:  ',precision6)\n",
        "print('f-score:    ',fscore6)\n",
        "print(\"\")"
      ],
      "metadata": {
        "colab": {
          "base_uri": "https://localhost:8080/"
        },
        "id": "ZtpNAJNhIpS7",
        "outputId": "ca41cd34-c85e-437d-9415-4c65a8fb112c"
      },
      "id": "ZtpNAJNhIpS7",
      "execution_count": 26,
      "outputs": [
        {
          "output_type": "stream",
          "name": "stderr",
          "text": [
            "/usr/local/lib/python3.10/dist-packages/sklearn/ensemble/_forest.py:424: FutureWarning: `max_features='auto'` has been deprecated in 1.1 and will be removed in 1.3. To keep the past behaviour, explicitly set `max_features='sqrt'` or remove this parameter as it is also the default value for RandomForestClassifiers and ExtraTreesClassifiers.\n",
            "  warn(\n"
          ]
        },
        {
          "output_type": "stream",
          "name": "stdout",
          "text": [
            "\n",
            "Matriz de confusion:\n",
            " \n",
            "[[28  0  0  0  0  0  0  0  0  0]\n",
            " [ 0 34  0  0  0  0  0  0  0  0]\n",
            " [ 0  0 32  0  0  0  0  0  0  0]\n",
            " [ 0  0  0 24  0  0  0  0  0  0]\n",
            " [ 0  0  0  0 21  0  0  0  0  0]\n",
            " [ 0  0  0  0  0 20  1  0  0  0]\n",
            " [ 0  0  0  0  0  0 30  0  0  0]\n",
            " [ 0  0  0  0  0  0  0 26  0  0]\n",
            " [ 0  1  0  0  0  0  0  0 22  0]\n",
            " [ 0  0  0  0  1  0  0  0  0 30]]\n",
            "\n",
            "Metricas:\n",
            " \n",
            "accuracy:    0.9814814814814815\n",
            "recall:      0.9814814814814815\n",
            "precision:   0.9818344898211417\n",
            "f-score:     0.9814554529146251\n",
            "\n"
          ]
        }
      ]
    },
    {
      "cell_type": "markdown",
      "source": [
        "Notar que existe una mejora en todas las métricas.\n",
        "\n",
        "Podemos ver además que el modelo que más tiempo tardó en ajustarse fue el de Regresió Logística, y el que menos tiempo tardó en ajustarse fue KNN.\n",
        "\n",
        "El mejor modelo al observar las métricas resulta ser el KNN.\n",
        "\n",
        "Como KNN resulta tener las mejores métricas, y además no tardó mucho en ajustarse, se elegirá este para el procedimiento."
      ],
      "metadata": {
        "id": "6MsUtuBIIwPo"
      },
      "id": "6MsUtuBIIwPo"
    },
    {
      "cell_type": "markdown",
      "id": "f53afd2b",
      "metadata": {
        "id": "f53afd2b"
      },
      "source": [
        "### Ejercicio 4\n",
        "\n",
        "__Comprensión del modelo:__ Tomando en cuenta el **mejor modelo entontrado** en el `Ejercicio 3`, debe comprender e interpretar minuciosamente los resultados y gráficos asocados al modelo en estudio, para ello debe resolver los siguientes puntos:\n",
        "\n",
        "\n",
        " * **Curva AUC–ROC**: Replica el ejemplo del siguiente  [link](https://scikit-learn.org/stable/auto_examples/model_selection/plot_roc.html#sphx-glr-auto-examples-model-selection-plot-roc-py) pero con el modelo, parámetros y métrica adecuada. Saque conclusiones del gráfico."
      ]
    },
    {
      "cell_type": "code",
      "execution_count": 27,
      "id": "5b7d6ee5",
      "metadata": {
        "id": "5b7d6ee5"
      },
      "outputs": [],
      "source": [
        "import numpy as np\n",
        "import matplotlib.pyplot as plt\n",
        "from itertools import cycle\n",
        "\n",
        "from sklearn import svm, datasets\n",
        "from sklearn.metrics import roc_curve, auc\n",
        "from sklearn.model_selection import train_test_split\n",
        "from sklearn.preprocessing import label_binarize\n",
        "from sklearn.multiclass import OneVsRestClassifier\n",
        "from sklearn.metrics import roc_auc_score\n",
        "\n",
        "\n",
        "# Binarize the output\n",
        "ry = label_binarize(y, classes=digits[\"target\"].unique())\n",
        "n_classes = y_test.shape[0]\n",
        "\n",
        "n_samples, n_features = X.shape\n",
        "\n",
        "# shuffle and split training and test sets\n",
        "X_train, X_test, y_train, y_test = train_test_split(X, ry,\n",
        "                                                    test_size=0.3,\n",
        "                                                    train_size = 0.7)\n",
        "\n",
        "\n",
        "# Learn to predict each class against the other\n",
        "classifier = OneVsRestClassifier(KNeighborsClassifier())\n",
        "y_score = classifier.fit(X_train, y_train).predict(X_test)\n",
        "\n",
        "# Compute ROC curve and ROC area for each class\n",
        "fpr = dict()\n",
        "tpr = dict()\n",
        "roc_auc = dict()\n",
        "for i in range(n_classes):\n",
        "    fpr[i], tpr[i], _ = roc_curve(y_test[i], y_score[i])\n",
        "    roc_auc[i] = auc(fpr[i], tpr[i])\n",
        "\n",
        "# Compute micro-average ROC curve and ROC area\n",
        "fpr[\"micro\"], tpr[\"micro\"], _ = roc_curve(y_test.ravel(), y_score.ravel())\n",
        "roc_auc[\"micro\"] = auc(fpr[\"micro\"], tpr[\"micro\"])"
      ]
    },
    {
      "cell_type": "code",
      "source": [
        "plt.figure()\n",
        "lw = 2\n",
        "plt.plot(\n",
        "    fpr[2],\n",
        "    tpr[2],\n",
        "    color=\"darkorange\",\n",
        "    lw=lw,\n",
        "    label=\"ROC curve (area = %0.2f)\" % roc_auc[2],\n",
        ")\n",
        "plt.plot([0, 1], [0, 1], color=\"navy\", lw=lw, linestyle=\"--\")\n",
        "plt.xlim([0.0, 1.0])\n",
        "plt.ylim([0.0, 1.05])\n",
        "plt.xlabel(\"False Positive Rate\")\n",
        "plt.ylabel(\"True Positive Rate\")\n",
        "plt.title(\"Receiver operating characteristic example\")\n",
        "plt.legend(loc=\"lower right\")\n",
        "plt.show()"
      ],
      "metadata": {
        "colab": {
          "base_uri": "https://localhost:8080/",
          "height": 472
        },
        "id": "kpeAWS6tJO-8",
        "outputId": "615d4fde-0706-41b6-a801-9f3ed208aeaf"
      },
      "id": "kpeAWS6tJO-8",
      "execution_count": 28,
      "outputs": [
        {
          "output_type": "display_data",
          "data": {
            "text/plain": [
              "<Figure size 640x480 with 1 Axes>"
            ],
            "image/png": "[encoded data removed]"
          },
          "metadata": {}
        }
      ]
    },
    {
      "cell_type": "markdown",
      "id": "528c1506",
      "metadata": {
        "id": "528c1506"
      },
      "source": [
        "### Ejercicio 5\n",
        "\n",
        "\n",
        "__Visualizando Resultados:__ A continuación se provee código para comparar las etiquetas predichas vs las etiquetas reales del conjunto de _test_."
      ]
    },
    {
      "cell_type": "code",
      "execution_count": 29,
      "id": "d13bf1ad",
      "metadata": {
        "id": "d13bf1ad"
      },
      "outputs": [],
      "source": [
        "def mostrar_resultados(digits, model, nx=5, ny=5, label=\"correctos\"):\n",
        "    \"\"\"\n",
        "    Muestra los resultados de las predicciones de un modelo de clasificación en particular.\n",
        "    Se toman aleatoriamente los valores de los resultados.\n",
        "\n",
        "    - label == 'correctos': muestra los valores en los que el modelo acierta.\n",
        "    - label == 'incorrectos': muestra los valores en los que el modelo no acierta.\n",
        "\n",
        "    Observación: El modelo que se recibe como argumento no debe estar entrenado.\n",
        "\n",
        "    :param digits: dataset 'digits'\n",
        "    :param model: modelo de sklearn\n",
        "    :param nx: número de filas (subplots)\n",
        "    :param ny: número de columnas (subplots)\n",
        "    :param label: 'correctos' o 'incorrectos'\n",
        "    :return: gráficos matplotlib\n",
        "    \"\"\"\n",
        "\n",
        "    X = digits.drop(columns=\"target\").values\n",
        "    y = digits[\"target\"].values\n",
        "    X_train, X_test, y_train, y_test = train_test_split(X, y, test_size=0.2, random_state=42)\n",
        "    model.fit(X_train, y_train)  # Ajustar el modelo\n",
        "    y_pred = model.predict(X_test)\n",
        "\n",
        "    # Mostrar los datos correctos\n",
        "    if label == \"correctos\":\n",
        "        mask = (y_pred == y_test)\n",
        "        color = \"green\"\n",
        "\n",
        "    # Mostrar los datos incorrectos\n",
        "    elif label == \"incorrectos\":\n",
        "        mask = (y_pred != y_test)\n",
        "        color = \"red\"\n",
        "\n",
        "    else:\n",
        "        raise ValueError(\"Valor incorrecto\")\n",
        "\n",
        "    X_aux = X_test[mask]\n",
        "    y_aux_true = y_test[mask]\n",
        "    y_aux_pred = y_pred[mask]\n",
        "\n",
        "    # Mostrar los resultados\n",
        "    n_samples = min(nx * ny, len(X_aux))\n",
        "    indices = np.random.choice(len(X_aux), n_samples, replace=False)\n",
        "    fig, ax = plt.subplots(nx, ny, figsize=(12, 12))\n",
        "\n",
        "    for i, index in enumerate(indices):\n",
        "        data = X_aux[index, :].reshape(8, 8)\n",
        "        label_pred = str(int(y_aux_pred[index]))\n",
        "        label_true = str(int(y_aux_true[index]))\n",
        "        row = i // ny\n",
        "        col = i % ny\n",
        "        ax[row, col].imshow(data, interpolation='nearest', cmap='gray_r')\n",
        "        ax[row, col].text(0, 0, label_pred, horizontalalignment='center', verticalalignment='center', fontsize=10, color=color)\n",
        "        ax[row, col].text(7, 0, label_true, horizontalalignment='center', verticalalignment='center', fontsize=10, color='blue')\n",
        "        ax[row, col].get_xaxis().set_visible(False)\n",
        "        ax[row, col].get_yaxis().set_visible(False)\n",
        "\n",
        "    plt.show()"
      ]
    },
    {
      "cell_type": "markdown",
      "id": "9c7e3382",
      "metadata": {
        "id": "9c7e3382"
      },
      "source": [
        "**Pregunta**\n",
        "\n",
        "* Tomando en cuenta el mejor modelo entontrado en el `Ejercicio 3`, grafique los resultados cuando:\n",
        " * el valor predicho y original son iguales\n",
        " * el valor predicho y original son distintos\n",
        "\n",
        "\n",
        "* Cuando el valor predicho y original son distintos ,  ¿Por qué ocurren estas fallas?"
      ]
    },
    {
      "cell_type": "code",
      "execution_count": 30,
      "id": "5a928580",
      "metadata": {
        "colab": {
          "base_uri": "https://localhost:8080/",
          "height": 961
        },
        "id": "5a928580",
        "outputId": "69bc74fa-c482-4106-eb9e-eb5d1495939f"
      },
      "outputs": [
        {
          "output_type": "display_data",
          "data": {
            "text/plain": [
              "<Figure size 1200x1200 with 25 Axes>"
            ],
            "image/png": "[encoded data removed]"
          },
          "metadata": {}
        }
      ],
      "source": [
        "mostrar_resultados(digits,KNeighborsClassifier(),nx=5, ny=5,label = \"correctos\")"
      ]
    },
    {
      "cell_type": "code",
      "source": [
        "mostrar_resultados(digits,KNeighborsClassifier(algorithm = 'kd_tree', metric= 'euclidean', n_neighbors=3, weights='uniform'),nx=5, ny=5,label = \"correctos\")"
      ],
      "metadata": {
        "colab": {
          "base_uri": "https://localhost:8080/",
          "height": 961
        },
        "id": "oMr61tp6JmJ6",
        "outputId": "d65af209-b4fd-4a67-c31e-5970dd9c0997"
      },
      "id": "oMr61tp6JmJ6",
      "execution_count": 42,
      "outputs": [
        {
          "output_type": "display_data",
          "data": {
            "text/plain": [
              "<Figure size 1200x1200 with 25 Axes>"
            ],
            "image/png": "[encoded data removed]"
          },
          "metadata": {}
        }
      ]
    },
    {
      "cell_type": "code",
      "source": [
        "mostrar_resultados(digits,KNeighborsClassifier(),nx=2, ny=2,label = \"incorrectos\") #tuve que poner nx=2 y ny=2 para que no saltara error, pero hay otro dígito más que es incorrecto"
      ],
      "metadata": {
        "colab": {
          "base_uri": "https://localhost:8080/",
          "height": 961
        },
        "id": "Xtp1v-BcKlAG",
        "outputId": "137f1482-9899-45a7-8e13-0c864b729bdd"
      },
      "id": "Xtp1v-BcKlAG",
      "execution_count": 41,
      "outputs": [
        {
          "output_type": "display_data",
          "data": {
            "text/plain": [
              "<Figure size 1200x1200 with 4 Axes>"
            ],
            "image/png": "[encoded data removed]"
          },
          "metadata": {}
        }
      ]
    },
    {
      "cell_type": "code",
      "source": [
        "mostrar_resultados(digits,KNeighborsClassifier(algorithm = 'kd_tree', metric= 'euclidean', n_neighbors=3, weights='uniform'),nx=2, ny=3,label = \"incorrectos\")"
      ],
      "metadata": {
        "colab": {
          "base_uri": "https://localhost:8080/",
          "height": 814
        },
        "id": "4PoqB69dKque",
        "outputId": "04dd9254-deb8-4968-ff34-0bcd38fb6f58"
      },
      "id": "4PoqB69dKque",
      "execution_count": 43,
      "outputs": [
        {
          "output_type": "display_data",
          "data": {
            "text/plain": [
              "<Figure size 1200x1200 with 6 Axes>"
            ],
            "image/png": "[encoded data removed]"
          },
          "metadata": {}
        }
      ]
    },
    {
      "cell_type": "markdown",
      "source": [
        "Se puede ver que, de hecho, el modelo con hiperparámetros ajustados falla en un dígito más que el de sin hiperparámetros (se puede hacer la prueba poniendo nx=2, ny=3, y ver que queda una cazilla blanca. Yo no lo quise hacer a efectos prácticos porque tira un error).\n",
        "Estas fallas pueden ocurrir porque el valor está demasiado nublado y porque el modelo fallará ciertas veces, podemos ver que tiene un accurate cercano a 1, pero no es 1. Esto se podría solucionar, tal vez, tomando más cantidad de muestreo al momento de realizar el entrenamiento del modelo."
      ],
      "metadata": {
        "id": "ONzZDg4SK0xK"
      },
      "id": "ONzZDg4SK0xK"
    },
    {
      "cell_type": "markdown",
      "id": "87f3d6e7",
      "metadata": {
        "id": "87f3d6e7"
      },
      "source": [
        "### Ejercicio 6\n",
        "**Conclusiones**: Entrega tu veredicto, responde las preguntas iniciales, visualizaciones, trabajos futuros, dificultades, etc."
      ]
    },
    {
      "cell_type": "markdown",
      "source": [
        "Se pudieron predecir la mayoría de los dígitos utilizando KNN, mostrando que es un modelo eficiente y además, bastante rápido. Las princiales dificultades vinieron del entendimiento del problema y el análisis del mismo. Tal vez para trabajos futuros se pueda mejorar el modelo para que las fallas disminuyan aún más, sin embargo, este se vio que era bastante bueno."
      ],
      "metadata": {
        "id": "QUYh0nLqHlnm"
      },
      "id": "QUYh0nLqHlnm"
    }
  ],
  "metadata": {
    "kernelspec": {
      "display_name": "Python 3 (ipykernel)",
      "language": "python",
      "name": "python3"
    },
    "language_info": {
      "codemirror_mode": {
        "name": "ipython",
        "version": 3
      },
      "file_extension": ".py",
      "mimetype": "text/x-python",
      "name": "python",
      "nbconvert_exporter": "python",
      "pygments_lexer": "ipython3",
      "version": "3.8.10"
    },
    "colab": {
      "provenance": []
    }
  },
  "nbformat": 4,
  "nbformat_minor": 5
}