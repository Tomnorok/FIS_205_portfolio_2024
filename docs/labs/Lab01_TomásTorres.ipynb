{
  "cells": [
    {
      "cell_type": "markdown",
      "id": "e2696553",
      "metadata": {
        "id": "e2696553"
      },
      "source": [
        "<a href=\"https://colab.research.google.com/github/fralfaro/MAT281_2023/blob/main/docs/labs/lab_01.ipynb\" target=\"_parent\"><img src=\"https://colab.research.google.com/assets/colab-badge.svg\" alt=\"Open In Colab\"/></a>\n",
        "\n",
        "\n",
        "# MAT281 - Laboratorio N°01\n"
      ]
    },
    {
      "cell_type": "markdown",
      "id": "a869ace0",
      "metadata": {
        "id": "a869ace0"
      },
      "source": [
        "## Problema 01\n",
        "\n",
        "En los siglos XVII y XVIII, James Gregory y Gottfried Leibniz descubrieron una serie infinita que sirve para calcular $\\pi$:\n",
        "\n",
        "$$\\displaystyle \\pi = 4 \\sum_{k=1}^{\\infty}\\dfrac{(-1)^{k+1}}{2k-1} = 4(1-\\dfrac{1}{3}+\\dfrac{1}{5}-\\dfrac{1}{7} + ...) $$\n",
        "\n",
        "Desarolle un programa para estimar el valor de $\\pi$ ocupando el método de Leibniz, donde la entrada del programa debe ser un número entero $n$ que indique cuántos términos de la suma se utilizará.\n",
        "\n",
        "\n",
        "* **Ejemplo**:\n",
        "    * *calcular_pi(3)* = 3.466666666666667\n",
        "    * *calcular_pi(1000)* = 3.140592653839794"
      ]
    },
    {
      "cell_type": "code",
      "execution_count": 3,
      "id": "dd54e855",
      "metadata": {
        "id": "dd54e855"
      },
      "outputs": [],
      "source": [
        "# Solución\n",
        "def calcular_pi(n):\n",
        "  valor=0\n",
        "  for k in range (1,n+1,1):\n",
        "    sum=((-1)**(k+1))/(2*k-1)\n",
        "    valor+=sum\n",
        "  return 4*valor"
      ]
    },
    {
      "cell_type": "code",
      "source": [
        "print(calcular_pi(3))\n",
        "print(calcular_pi(1000))"
      ],
      "metadata": {
        "colab": {
          "base_uri": "https://localhost:8080/"
        },
        "id": "qfOFH1WYiiZT",
        "outputId": "d880c197-1bd3-4276-f934-0f9d7638088a"
      },
      "id": "qfOFH1WYiiZT",
      "execution_count": 4,
      "outputs": [
        {
          "output_type": "stream",
          "name": "stdout",
          "text": [
            "3.466666666666667\n",
            "3.140592653839794\n"
          ]
        }
      ]
    },
    {
      "cell_type": "markdown",
      "id": "c26be634",
      "metadata": {
        "id": "c26be634"
      },
      "source": [
        "## Problema 02\n",
        "\n",
        "Euler realizó varios aportes en relación a $e$, pero no fue hasta 1748 cuando publicó su **Introductio in analysin infinitorum** que dio un tratamiento definitivo a las ideas sobre $e$. Allí mostró que:\n",
        "\n",
        "\n",
        "En los siglos XVII y XVIII, James Gregory y Gottfried Leibniz descubrieron una serie infinita que sirve para calcular π:\n",
        "\n",
        "$$\\displaystyle e = \\sum_{k=0}^{\\infty}\\dfrac{1}{k!} = 1+\\dfrac{1}{2!}+\\dfrac{1}{3!}+\\dfrac{1}{4!} + ... $$\n",
        "\n",
        "Desarolle un programa para estimar el valor de $e$ ocupando el método de Euler, donde la entrada del programa debe ser un número entero $n$ que indique cuántos términos de la suma se utilizará.\n",
        "\n",
        "Para esto:\n",
        "\n",
        "* a) Defina la función `factorial`, donde la entrada sea un número natural  $n$ y la salida sea el factorial de dicho número.\n",
        "    * **Ejemplo**: *factorial(3)* =3, *factorial(5)* = 120\n",
        "    \n",
        "    \n",
        "* b) Ocupe la función `factorial` dentro de la función `calcular_e`.     \n",
        "    * **Ejemplo**: *calcular_e(3)* = 2.6666666666666665, *calcular_e(1000)* = 2.7182818284590455"
      ]
    },
    {
      "cell_type": "code",
      "execution_count": 18,
      "id": "706d4c0a",
      "metadata": {
        "id": "706d4c0a"
      },
      "outputs": [],
      "source": [
        "# Solución\n",
        "def factorial(n):\n",
        "  fact = 1\n",
        "  for k in range (1,n+1,1):\n",
        "    fact *= k\n",
        "  return fact\n",
        "\n",
        "def calcular_e(n):\n",
        "  valor = 0\n",
        "  for k in range (0,n+1,1):\n",
        "    sum = 1/(factorial(k))\n",
        "    valor += sum\n",
        "  return valor"
      ]
    },
    {
      "cell_type": "markdown",
      "source": [
        "a) Factorial"
      ],
      "metadata": {
        "id": "ZUalVxcIlHoU"
      },
      "id": "ZUalVxcIlHoU"
    },
    {
      "cell_type": "code",
      "source": [
        "print(factorial(3))\n",
        "print (factorial(5))"
      ],
      "metadata": {
        "colab": {
          "base_uri": "https://localhost:8080/"
        },
        "id": "kufxU10alFL6",
        "outputId": "47c4842c-38fc-41bb-9d61-9d240d897ac2"
      },
      "id": "kufxU10alFL6",
      "execution_count": 16,
      "outputs": [
        {
          "output_type": "stream",
          "name": "stdout",
          "text": [
            "6\n",
            "120\n"
          ]
        }
      ]
    },
    {
      "cell_type": "markdown",
      "source": [
        "b) calcular e"
      ],
      "metadata": {
        "id": "0-dRstfNleVJ"
      },
      "id": "0-dRstfNleVJ"
    },
    {
      "cell_type": "code",
      "source": [
        "print(calcular_e(3))\n",
        "print(calcular_e(1000))"
      ],
      "metadata": {
        "colab": {
          "base_uri": "https://localhost:8080/"
        },
        "id": "Kl5p7xuHiuee",
        "outputId": "889e236c-be13-406d-99b9-ff2e55b8b63a"
      },
      "id": "Kl5p7xuHiuee",
      "execution_count": 17,
      "outputs": [
        {
          "output_type": "stream",
          "name": "stdout",
          "text": [
            "2.6666666666666665\n",
            "2.7182818284590455\n"
          ]
        }
      ]
    },
    {
      "cell_type": "markdown",
      "id": "9707be93",
      "metadata": {
        "id": "9707be93"
      },
      "source": [
        "## Problema 03\n",
        "\n",
        "Sea $\\sigma(n)$ definido como la suma de los divisores propios de $n$ (números menores que n que se dividen en $n$).\n",
        "\n",
        "Los [números amigos](https://en.wikipedia.org/wiki/Amicable_numbers) son  enteros positivos $n_1$ y $n_2$ tales que la suma de los divisores propios de uno es igual al otro número y viceversa, es decir, $\\sigma(n_1)=\\sigma(n_2)$ y $\\sigma(n_2)=\\sigma(n_1)$.\n",
        "\n",
        "\n",
        "Por ejemplo, los números 220 y 284 son números amigos.\n",
        "* los divisores propios de 220 son 1, 2, 4, 5, 10, 11, 20, 22, 44, 55 y 110; por lo tanto $\\sigma(220) = 284$.\n",
        "* los divisores propios de 284 son 1, 2, 4, 71 y 142; entonces $\\sigma(284) = 220$.\n",
        "\n",
        "\n",
        "Implemente una función llamada `amigos` cuyo input sean dos números naturales $n_1$ y $n_2$, cuyo output sea verifique si los números son amigos o no.\n",
        "\n",
        "Para esto:\n",
        "\n",
        "* a) Defina la función `divisores_propios`, donde la entrada sea un número natural $n$ y la salida sea una lista con los divisores propios de dicho número.\n",
        "    * **Ejemplo**: *divisores_propios(220)* = [1, 2, 4, 5, 10, 11, 20, 22, 44, 55 y 110], *divisores_propios(284)* = [1, 2, 4, 71 y 142]\n",
        "    \n",
        "    \n",
        "* b) Ocupe la función `divisores_propios` dentro de la función `amigos`.\n",
        "\n",
        "    * **Ejemplo**: *amigos(220,284)* = True, *amigos(6,5)* = False"
      ]
    },
    {
      "cell_type": "code",
      "execution_count": 23,
      "id": "e695ea21",
      "metadata": {
        "id": "e695ea21"
      },
      "outputs": [],
      "source": [
        "# Solución\n",
        "def divisores_propios(n):\n",
        "  div=[]\n",
        "  for k in range(1,n,1):\n",
        "    if n%k==0:\n",
        "      div.append(k)\n",
        "  return div\n",
        "\n",
        "def amigos(n1,n2):\n",
        "  divisores_n1=divisores_propios(n1)\n",
        "  divisores_n2=divisores_propios(n2)\n",
        "  sum_n1=sum(divisores_n1)\n",
        "  sum_n2=sum(divisores_n2)\n",
        "  if sum_n1==n2 and sum_n2==n1:\n",
        "    return (True)\n",
        "  else:\n",
        "    return (False)"
      ]
    },
    {
      "cell_type": "markdown",
      "source": [
        "a) Divisores propios"
      ],
      "metadata": {
        "id": "gNVE8H0Blzmr"
      },
      "id": "gNVE8H0Blzmr"
    },
    {
      "cell_type": "code",
      "source": [
        "print(divisores_propios(220))\n",
        "print(divisores_propios(284))"
      ],
      "metadata": {
        "colab": {
          "base_uri": "https://localhost:8080/"
        },
        "id": "BKP7VR_Ul30J",
        "outputId": "234b6e55-f1c3-43c2-b4f6-9bdaabd59ad6"
      },
      "id": "BKP7VR_Ul30J",
      "execution_count": 24,
      "outputs": [
        {
          "output_type": "stream",
          "name": "stdout",
          "text": [
            "[1, 2, 4, 5, 10, 11, 20, 22, 44, 55, 110]\n",
            "[1, 2, 4, 71, 142]\n"
          ]
        }
      ]
    },
    {
      "cell_type": "markdown",
      "source": [
        "b) Amigos"
      ],
      "metadata": {
        "id": "Hx4fxvTyl4gQ"
      },
      "id": "Hx4fxvTyl4gQ"
    },
    {
      "cell_type": "code",
      "source": [
        "print(amigos(220,284))\n",
        "print(amigos(6,5))"
      ],
      "metadata": {
        "colab": {
          "base_uri": "https://localhost:8080/"
        },
        "id": "9sQMfW8YizUn",
        "outputId": "4a4f92e8-0e50-411c-e7aa-ad8a622a11c7"
      },
      "id": "9sQMfW8YizUn",
      "execution_count": 25,
      "outputs": [
        {
          "output_type": "stream",
          "name": "stdout",
          "text": [
            "True\n",
            "False\n"
          ]
        }
      ]
    },
    {
      "cell_type": "markdown",
      "id": "cf93a039",
      "metadata": {
        "id": "cf93a039"
      },
      "source": [
        "## Problema 04\n",
        "\n",
        "La [conjetura de Collatz](https://en.wikipedia.org/wiki/Collatz_conjecture), conocida también como conjetura $3n+1$ o conjetura de Ulam (entre otros nombres), fue enunciada por el matemático Lothar Collatz en 1937, y a la fecha no se ha resuelto.\n",
        "\n",
        "Sea la siguiente operación, aplicable a cualquier número entero positivo:\n",
        "* Si el número es par, se divide entre 2.\n",
        "* Si el número es impar, se multiplica por 3 y se suma 1.\n",
        "\n",
        "La conjetura dice que siempre alcanzaremos el 1 (y por tanto el ciclo 4, 2, 1) para cualquier número con el que comencemos.\n",
        "\n",
        "Implemente una función llamada `collatz` cuyo input sea un número natural positivo $N$ y como output devulva la secuencia de números hasta llegar a 1.\n",
        "\n",
        "* **Ejemplo**: *collatz(9)* = [9, 28, 14, 7, 22, 11, 34, 17, 52, 26, 13, 40, 20, 10, 5, 16, 8, 4, 2, 1]"
      ]
    },
    {
      "cell_type": "code",
      "execution_count": 26,
      "id": "10501a00",
      "metadata": {
        "id": "10501a00"
      },
      "outputs": [],
      "source": [
        "# Solución\n",
        "def collatz(N):\n",
        "  list_collatz = [N] #Se agregará el valor inicial N a la lista que sí o sí estará\n",
        "  while N != 1: #Se iterará mientras el valor N (modificado) no sea 1 (pues ahí detenemos el proceso)\n",
        "    if N%2 == 0:   #condición par\n",
        "      N = int(N/2)    #Se convertirá en un int, dado que división lo hace float\n",
        "      list_collatz.append(N)  #Se agregará a la lista\n",
        "    elif N%2 != 0:   #condición impar\n",
        "      N = N*3+1\n",
        "      list_collatz.append(N) #Se agregará a la lista\n",
        "  return list_collatz"
      ]
    },
    {
      "cell_type": "code",
      "source": [
        "print(collatz(9))"
      ],
      "metadata": {
        "colab": {
          "base_uri": "https://localhost:8080/"
        },
        "id": "xFHUM2vbi3in",
        "outputId": "48d1c3a9-d093-4bd8-a808-74b8e6d91560"
      },
      "id": "xFHUM2vbi3in",
      "execution_count": 27,
      "outputs": [
        {
          "output_type": "stream",
          "name": "stdout",
          "text": [
            "[9, 28, 14, 7, 22, 11, 34, 17, 52, 26, 13, 40, 20, 10, 5, 16, 8, 4, 2, 1]\n"
          ]
        }
      ]
    },
    {
      "cell_type": "markdown",
      "id": "d15af4eb",
      "metadata": {
        "id": "d15af4eb"
      },
      "source": [
        "## Problema 05\n",
        "La [conjetura de Goldbach](https://en.wikipedia.org/wiki/Goldbach%27s_conjecture) es uno de los problemas abiertos más antiguos en matemáticas. Concretamente, G.H. Hardy, en 1921, en su famoso discurso pronunciado en la Sociedad Matemática de Copenhague, comentó que probablemente la conjetura de Goldbach no es solo uno de los problemas no resueltos más difíciles de la teoría de números, sino de todas las matemáticas. Su enunciado es el siguiente:\n",
        "\n",
        "> Todo número par mayor que 2 puede escribirse como suma de dos números primos - Christian Goldbach (1742)\n",
        "\n",
        "Implemente una función llamada `goldbach` cuyo input sea un número natural positivo $n$ y como output devuelva la suma de dos primos ($n_1$ y $n_2$) tal que: $n_1+n_2=n$.\n",
        "\n",
        "Para esto:\n",
        "\n",
        "* a) Defina la función `es_primo`, donde la entrada sea un número natural $n$ y la salida sea **True** si el número es primo y **False** en otro caso.\n",
        "    * **Ejemplo**: *es_primo(3)* = True, *es_primo(4)* = False\n",
        "    \n",
        "    \n",
        "* b)  Defina la función `lista_de_primos`, donde la entrada sea un número natural par $n$ mayor que dos y la salida sea una lista con todos los número primos entre 2 y $n$.\n",
        "    * **Ejemplo**: *lista_de_primos(4)* = [2,3], *lista_de_primos(6)* = [2,3,5], *lista_de_primos(8)* = [2,3,5,7]\n",
        "\n",
        "\n",
        "* c) Ocupe la función `lista_de_primos` dentro de la función `goldbash`.\n",
        " * **Ejemplo**: goldbash(4) = (2,2), goldbash(6) = (3,3) , goldbash(8) = (3,5)"
      ]
    },
    {
      "cell_type": "code",
      "execution_count": 40,
      "id": "cccb4ae0",
      "metadata": {
        "id": "cccb4ae0"
      },
      "outputs": [],
      "source": [
        "# Solución\n",
        "def es_primo(n): #n es divisible por 1 y por sí mismo\n",
        "  div = [n]\n",
        "  for k in range(1,n,1):\n",
        "    if n%k == 0:\n",
        "      div.append(k) #Se crea una lista con todos los divisores\n",
        "  if len(div) == 2: #Un numero primo solo debe tener 2 divisores, por lo que la longitud de la lista debe ser a lo más 2\n",
        "    return (True)\n",
        "  else:\n",
        "    return (False)\n",
        "\n",
        "def lista_de_primos(n):\n",
        "  lista_de_primos = []\n",
        "  for k in range(2,n,1):\n",
        "    if es_primo(k) == True:\n",
        "      lista_de_primos.append(k)\n",
        "  return lista_de_primos\n",
        "\n",
        "def goldbash(n):\n",
        "  lista_goldbash = lista_de_primos(n) #Llamamos a la función lista de primos\n",
        "  combinaciones = [] #Creamos una lista donde estén todas las posibles combinaciones de números primos que sumen el valor n\n",
        "  for k in lista_goldbash:\n",
        "    for r in lista_goldbash: #Recorremos todos los valores en la lista y los sumamos todos entre sí\n",
        "      if k+r == n:\n",
        "        combinaciones.append((k,r)) #si se cumple lo requerido, añadimos el par (k,r) de primos a la lista de combinaciones\n",
        "  return(combinaciones[0]) #accedemos solo al primer elemento de la lista de combinaciones para lo deseado (así no se repite, por ejemplo, (5,3) y (3,5))"
      ]
    },
    {
      "cell_type": "markdown",
      "source": [
        "a) Es primo"
      ],
      "metadata": {
        "id": "psYjUZ3enTCJ"
      },
      "id": "psYjUZ3enTCJ"
    },
    {
      "cell_type": "code",
      "source": [
        "print(es_primo(3))\n",
        "print(es_primo(4))"
      ],
      "metadata": {
        "colab": {
          "base_uri": "https://localhost:8080/"
        },
        "id": "wtsok9epnSqa",
        "outputId": "1b6838a1-a9bd-4096-d576-1b0a89c4fd32"
      },
      "id": "wtsok9epnSqa",
      "execution_count": 41,
      "outputs": [
        {
          "output_type": "stream",
          "name": "stdout",
          "text": [
            "True\n",
            "False\n"
          ]
        }
      ]
    },
    {
      "cell_type": "markdown",
      "source": [
        "b) Lista de primos"
      ],
      "metadata": {
        "id": "HDTDrURengMA"
      },
      "id": "HDTDrURengMA"
    },
    {
      "cell_type": "code",
      "source": [
        "print(lista_de_primos(4))\n",
        "print(lista_de_primos(6))\n",
        "print(lista_de_primos(8))"
      ],
      "metadata": {
        "colab": {
          "base_uri": "https://localhost:8080/"
        },
        "id": "ryOCeqCinn8Y",
        "outputId": "b2c36e1e-4edb-41cf-e971-ae76c6c85d2e"
      },
      "id": "ryOCeqCinn8Y",
      "execution_count": 42,
      "outputs": [
        {
          "output_type": "stream",
          "name": "stdout",
          "text": [
            "[2, 3]\n",
            "[2, 3, 5]\n",
            "[2, 3, 5, 7]\n"
          ]
        }
      ]
    },
    {
      "cell_type": "markdown",
      "source": [
        "c) Goldbash"
      ],
      "metadata": {
        "id": "AJObo1ZBoOVh"
      },
      "id": "AJObo1ZBoOVh"
    },
    {
      "cell_type": "code",
      "source": [
        "print(goldbash(4))\n",
        "print(goldbash(6))\n",
        "print(goldbash(8))"
      ],
      "metadata": {
        "colab": {
          "base_uri": "https://localhost:8080/"
        },
        "id": "gtBXEko3jCub",
        "outputId": "6e97d771-efd5-47ed-e85b-3b6a45b2bb17"
      },
      "id": "gtBXEko3jCub",
      "execution_count": 43,
      "outputs": [
        {
          "output_type": "stream",
          "name": "stdout",
          "text": [
            "(2, 2)\n",
            "(3, 3)\n",
            "(3, 5)\n"
          ]
        }
      ]
    }
  ],
  "metadata": {
    "kernelspec": {
      "display_name": "Python 3 (ipykernel)",
      "language": "python",
      "name": "python3"
    },
    "language_info": {
      "codemirror_mode": {
        "name": "ipython",
        "version": 3
      },
      "file_extension": ".py",
      "mimetype": "text/x-python",
      "name": "python",
      "nbconvert_exporter": "python",
      "pygments_lexer": "ipython3",
      "version": "3.8.10"
    },
    "colab": {
      "provenance": []
    }
  },
  "nbformat": 4,
  "nbformat_minor": 5
}