{
  "cells": [
    {
      "cell_type": "markdown",
      "metadata": {
        "id": "goIHi0Ap-3Su"
      },
      "source": [
        "<a href=\"https://colab.research.google.com/github/fralfaro/MAT281_2023/blob/main/docs/labs/lab_031.ipynb\" target=\"_parent\"><img src=\"https://colab.research.google.com/assets/colab-badge.svg\" alt=\"Open In Colab\"/></a>\n",
        "\n",
        "\n",
        "# MAT281 - Laboratorio N°03\n",
        "\n",
        "\n"
      ]
    },
    {
      "cell_type": "markdown",
      "metadata": {
        "id": "kP5lpz_h-3UX"
      },
      "source": [
        "## Problema 01\n",
        "\n",
        "\n",
        "<img src=\"https://imagenes.universia.net/gc/net/images/practicas-empleo/p/pr/pro/profesiones-con-el-avance-de-la-tecnologia.jpg\" width=\"480\" height=\"360\" align=\"center\"/>\n",
        "\n",
        "\n",
        "EL conjunto de datos se denomina `ocupation.csv`, el cual contiene información de distintos usuarios (edad ,sexo, profesión, etc.).\n",
        "\n",
        "Lo primero es cargar el conjunto de datos y ver las primeras filas que lo componen:"
      ]
    },
    {
      "cell_type": "code",
      "execution_count": 3,
      "metadata": {
        "id": "GJfI2IRl-3UZ"
      },
      "outputs": [],
      "source": [
        "import pandas as pd"
      ]
    },
    {
      "cell_type": "code",
      "execution_count": 4,
      "metadata": {
        "colab": {
          "base_uri": "https://localhost:8080/",
          "height": 206
        },
        "id": "buV-TMpW-3Ue",
        "outputId": "783287ca-d028-4bec-91eb-dec38e7bb114"
      },
      "outputs": [
        {
          "output_type": "execute_result",
          "data": {
            "text/plain": [
              "   user_id  age gender  occupation zip_code\n",
              "0        1   24      M  technician    85711\n",
              "1        2   53      F       other    94043\n",
              "2        3   23      M      writer    32067\n",
              "3        4   24      M  technician    43537\n",
              "4        5   33      F       other    15213"
            ],
            "text/html": [
              "\n",
              "  <div id=\"df-5fb227f6-8b23-4f4a-b1aa-7b8aa07e4d80\" class=\"colab-df-container\">\n",
              "    <div>\n",
              "<style scoped>\n",
              "    .dataframe tbody tr th:only-of-type {\n",
              "        vertical-align: middle;\n",
              "    }\n",
              "\n",
              "    .dataframe tbody tr th {\n",
              "        vertical-align: top;\n",
              "    }\n",
              "\n",
              "    .dataframe thead th {\n",
              "        text-align: right;\n",
              "    }\n",
              "</style>\n",
              "<table border=\"1\" class=\"dataframe\">\n",
              "  <thead>\n",
              "    <tr style=\"text-align: right;\">\n",
              "      <th></th>\n",
              "      <th>user_id</th>\n",
              "      <th>age</th>\n",
              "      <th>gender</th>\n",
              "      <th>occupation</th>\n",
              "      <th>zip_code</th>\n",
              "    </tr>\n",
              "  </thead>\n",
              "  <tbody>\n",
              "    <tr>\n",
              "      <th>0</th>\n",
              "      <td>1</td>\n",
              "      <td>24</td>\n",
              "      <td>M</td>\n",
              "      <td>technician</td>\n",
              "      <td>85711</td>\n",
              "    </tr>\n",
              "    <tr>\n",
              "      <th>1</th>\n",
              "      <td>2</td>\n",
              "      <td>53</td>\n",
              "      <td>F</td>\n",
              "      <td>other</td>\n",
              "      <td>94043</td>\n",
              "    </tr>\n",
              "    <tr>\n",
              "      <th>2</th>\n",
              "      <td>3</td>\n",
              "      <td>23</td>\n",
              "      <td>M</td>\n",
              "      <td>writer</td>\n",
              "      <td>32067</td>\n",
              "    </tr>\n",
              "    <tr>\n",
              "      <th>3</th>\n",
              "      <td>4</td>\n",
              "      <td>24</td>\n",
              "      <td>M</td>\n",
              "      <td>technician</td>\n",
              "      <td>43537</td>\n",
              "    </tr>\n",
              "    <tr>\n",
              "      <th>4</th>\n",
              "      <td>5</td>\n",
              "      <td>33</td>\n",
              "      <td>F</td>\n",
              "      <td>other</td>\n",
              "      <td>15213</td>\n",
              "    </tr>\n",
              "  </tbody>\n",
              "</table>\n",
              "</div>\n",
              "    <div class=\"colab-df-buttons\">\n",
              "\n",
              "  <div class=\"colab-df-container\">\n",
              "    <button class=\"colab-df-convert\" onclick=\"convertToInteractive('df-5fb227f6-8b23-4f4a-b1aa-7b8aa07e4d80')\"\n",
              "            title=\"Convert this dataframe to an interactive table.\"\n",
              "            style=\"display:none;\">\n",
              "\n",
              "  <svg xmlns=\"http://www.w3.org/2000/svg\" height=\"24px\" viewBox=\"0 -960 960 960\">\n",
              "    <path d=\"M120-120v-720h720v720H120Zm60-500h600v-160H180v160Zm220 220h160v-160H400v160Zm0 220h160v-160H400v160ZM180-400h160v-160H180v160Zm440 0h160v-160H620v160ZM180-180h160v-160H180v160Zm440 0h160v-160H620v160Z\"/>\n",
              "  </svg>\n",
              "    </button>\n",
              "\n",
              "  <style>\n",
              "    .colab-df-container {\n",
              "      display:flex;\n",
              "      gap: 12px;\n",
              "    }\n",
              "\n",
              "    .colab-df-convert {\n",
              "      background-color: #E8F0FE;\n",
              "      border: none;\n",
              "      border-radius: 50%;\n",
              "      cursor: pointer;\n",
              "      display: none;\n",
              "      fill: #1967D2;\n",
              "      height: 32px;\n",
              "      padding: 0 0 0 0;\n",
              "      width: 32px;\n",
              "    }\n",
              "\n",
              "    .colab-df-convert:hover {\n",
              "      background-color: #E2EBFA;\n",
              "      box-shadow: 0px 1px 2px rgba(60, 64, 67, 0.3), 0px 1px 3px 1px rgba(60, 64, 67, 0.15);\n",
              "      fill: #174EA6;\n",
              "    }\n",
              "\n",
              "    .colab-df-buttons div {\n",
              "      margin-bottom: 4px;\n",
              "    }\n",
              "\n",
              "    [theme=dark] .colab-df-convert {\n",
              "      background-color: #3B4455;\n",
              "      fill: #D2E3FC;\n",
              "    }\n",
              "\n",
              "    [theme=dark] .colab-df-convert:hover {\n",
              "      background-color: #434B5C;\n",
              "      box-shadow: 0px 1px 3px 1px rgba(0, 0, 0, 0.15);\n",
              "      filter: drop-shadow(0px 1px 2px rgba(0, 0, 0, 0.3));\n",
              "      fill: #FFFFFF;\n",
              "    }\n",
              "  </style>\n",
              "\n",
              "    <script>\n",
              "      const buttonEl =\n",
              "        document.querySelector('#df-5fb227f6-8b23-4f4a-b1aa-7b8aa07e4d80 button.colab-df-convert');\n",
              "      buttonEl.style.display =\n",
              "        google.colab.kernel.accessAllowed ? 'block' : 'none';\n",
              "\n",
              "      async function convertToInteractive(key) {\n",
              "        const element = document.querySelector('#df-5fb227f6-8b23-4f4a-b1aa-7b8aa07e4d80');\n",
              "        const dataTable =\n",
              "          await google.colab.kernel.invokeFunction('convertToInteractive',\n",
              "                                                    [key], {});\n",
              "        if (!dataTable) return;\n",
              "\n",
              "        const docLinkHtml = 'Like what you see? Visit the ' +\n",
              "          '<a target=\"_blank\" href=https://colab.research.google.com/notebooks/data_table.ipynb>data table notebook</a>'\n",
              "          + ' to learn more about interactive tables.';\n",
              "        element.innerHTML = '';\n",
              "        dataTable['output_type'] = 'display_data';\n",
              "        await google.colab.output.renderOutput(dataTable, element);\n",
              "        const docLink = document.createElement('div');\n",
              "        docLink.innerHTML = docLinkHtml;\n",
              "        element.appendChild(docLink);\n",
              "      }\n",
              "    </script>\n",
              "  </div>\n",
              "\n",
              "\n",
              "<div id=\"df-eb56ddb3-8b5c-4faa-becf-9b5c11a14ade\">\n",
              "  <button class=\"colab-df-quickchart\" onclick=\"quickchart('df-eb56ddb3-8b5c-4faa-becf-9b5c11a14ade')\"\n",
              "            title=\"Suggest charts.\"\n",
              "            style=\"display:none;\">\n",
              "\n",
              "<svg xmlns=\"http://www.w3.org/2000/svg\" height=\"24px\"viewBox=\"0 0 24 24\"\n",
              "     width=\"24px\">\n",
              "    <g>\n",
              "        <path d=\"M19 3H5c-1.1 0-2 .9-2 2v14c0 1.1.9 2 2 2h14c1.1 0 2-.9 2-2V5c0-1.1-.9-2-2-2zM9 17H7v-7h2v7zm4 0h-2V7h2v10zm4 0h-2v-4h2v4z\"/>\n",
              "    </g>\n",
              "</svg>\n",
              "  </button>\n",
              "\n",
              "<style>\n",
              "  .colab-df-quickchart {\n",
              "    background-color: #E8F0FE;\n",
              "    border: none;\n",
              "    border-radius: 50%;\n",
              "    cursor: pointer;\n",
              "    display: none;\n",
              "    fill: #1967D2;\n",
              "    height: 32px;\n",
              "    padding: 0 0 0 0;\n",
              "    width: 32px;\n",
              "  }\n",
              "\n",
              "  .colab-df-quickchart:hover {\n",
              "    background-color: #E2EBFA;\n",
              "    box-shadow: 0px 1px 2px rgba(60, 64, 67, 0.3), 0px 1px 3px 1px rgba(60, 64, 67, 0.15);\n",
              "    fill: #174EA6;\n",
              "  }\n",
              "\n",
              "  [theme=dark] .colab-df-quickchart {\n",
              "    background-color: #3B4455;\n",
              "    fill: #D2E3FC;\n",
              "  }\n",
              "\n",
              "  [theme=dark] .colab-df-quickchart:hover {\n",
              "    background-color: #434B5C;\n",
              "    box-shadow: 0px 1px 3px 1px rgba(0, 0, 0, 0.15);\n",
              "    filter: drop-shadow(0px 1px 2px rgba(0, 0, 0, 0.3));\n",
              "    fill: #FFFFFF;\n",
              "  }\n",
              "</style>\n",
              "\n",
              "  <script>\n",
              "    async function quickchart(key) {\n",
              "      const charts = await google.colab.kernel.invokeFunction(\n",
              "          'suggestCharts', [key], {});\n",
              "    }\n",
              "    (() => {\n",
              "      let quickchartButtonEl =\n",
              "        document.querySelector('#df-eb56ddb3-8b5c-4faa-becf-9b5c11a14ade button');\n",
              "      quickchartButtonEl.style.display =\n",
              "        google.colab.kernel.accessAllowed ? 'block' : 'none';\n",
              "    })();\n",
              "  </script>\n",
              "</div>\n",
              "    </div>\n",
              "  </div>\n"
            ]
          },
          "metadata": {},
          "execution_count": 4
        }
      ],
      "source": [
        "# load data\n",
        "url='https://drive.google.com/file/d/1SW1_vWBLd50COj4FbQdZenqAwA0nLDqC/view?usp=drive_link'\n",
        "url='https://drive.google.com/uc?id=' + url.split('/')[-2]\n",
        "\n",
        "df = pd.read_csv(url, sep=\"|\" )\n",
        "df.head()"
      ]
    },
    {
      "cell_type": "markdown",
      "metadata": {
        "id": "C9M4rJOV-3Uh"
      },
      "source": [
        "El objetivo es tratar de obtener la mayor información posible de este conjunto de datos. Para cumplir este objetivo debe resolver las siguientes problemáticas:"
      ]
    },
    {
      "cell_type": "markdown",
      "metadata": {
        "id": "6vyf2rE_-3Ui"
      },
      "source": [
        "1.- ¿Cuál es el número de observaciones en el conjunto de datos?"
      ]
    },
    {
      "cell_type": "code",
      "execution_count": 6,
      "metadata": {
        "colab": {
          "base_uri": "https://localhost:8080/"
        },
        "id": "rL3Cc1X0-3Uj",
        "outputId": "6621d186-6d2d-41f7-e794-33463fe6f652"
      },
      "outputs": [
        {
          "output_type": "stream",
          "name": "stdout",
          "text": [
            "El número de observaciones es 943\n",
            "\n"
          ]
        }
      ],
      "source": [
        "# Desarrollo\n",
        "\n",
        "cant_obs=df.shape[0] #ve la cantidad de filas que tiene el df\n",
        "print(\"El número de observaciones es\", cant_obs)\n",
        "print(\"\") #separadores para que exista un espacio entre preguntas.\n"
      ]
    },
    {
      "cell_type": "markdown",
      "metadata": {
        "id": "cVHJQeHl-3Uk"
      },
      "source": [
        "2.- ¿Cuál es el número de columnas en el conjunto de datos?"
      ]
    },
    {
      "cell_type": "code",
      "execution_count": 7,
      "metadata": {
        "colab": {
          "base_uri": "https://localhost:8080/"
        },
        "id": "GwRF8RP5-3Um",
        "outputId": "86afba2b-a8c4-4c16-891f-fcefd7b78def"
      },
      "outputs": [
        {
          "output_type": "stream",
          "name": "stdout",
          "text": [
            "El número de columnas es 5\n",
            "\n"
          ]
        }
      ],
      "source": [
        "# Desarrollo\n",
        "\n",
        "cant_col=df.shape[1] #ve la cantidad de columnas que tiene el df\n",
        "print(\"El número de columnas es\", cant_col)\n",
        "print(\"\")"
      ]
    },
    {
      "cell_type": "markdown",
      "metadata": {
        "id": "pQlg6HOs-3Un"
      },
      "source": [
        "3.- Imprime el nombre de todas las columnas"
      ]
    },
    {
      "cell_type": "code",
      "execution_count": 9,
      "metadata": {
        "colab": {
          "base_uri": "https://localhost:8080/"
        },
        "id": "c235hwtu-3Up",
        "outputId": "9be34a97-ad1c-4494-91f4-37b819f85018"
      },
      "outputs": [
        {
          "output_type": "stream",
          "name": "stdout",
          "text": [
            "Los nombres de las columnas son:\n",
            "user_id\n",
            "age\n",
            "gender\n",
            "occupation\n",
            "zip_code\n",
            "\n"
          ]
        }
      ],
      "source": [
        "# Desarrollo\n",
        "\n",
        "print(\"Los nombres de las columnas son:\")\n",
        "c=df.columns.tolist() #creamos una lista con todos los elementos\n",
        "for j in range(len(c)): #imprimimos cada uno por separado para no tenerlos en una lista\n",
        "  print(c[j])\n",
        "print(\"\")\n"
      ]
    },
    {
      "cell_type": "markdown",
      "metadata": {
        "id": "kKfC1Uu2-3Us"
      },
      "source": [
        "4.- Imprima el índice del dataframe"
      ]
    },
    {
      "cell_type": "code",
      "execution_count": 10,
      "metadata": {
        "colab": {
          "base_uri": "https://localhost:8080/"
        },
        "id": "4nJe9VMZ-3Ut",
        "outputId": "24d5441b-aa6d-488c-db6d-179a0d93d25f"
      },
      "outputs": [
        {
          "output_type": "stream",
          "name": "stdout",
          "text": [
            "El indice del dataframe es: RangeIndex(start=0, stop=943, step=1)\n"
          ]
        }
      ],
      "source": [
        "# Desarrollo\n",
        "\n",
        "print(\"El indice del dataframe es: \"+str(df.index))"
      ]
    },
    {
      "cell_type": "markdown",
      "metadata": {
        "id": "AzwHQRI5-3Uu"
      },
      "source": [
        "5.- ¿Cuál es el tipo de datos de cada columna?"
      ]
    },
    {
      "cell_type": "code",
      "execution_count": 12,
      "metadata": {
        "colab": {
          "base_uri": "https://localhost:8080/"
        },
        "id": "eWDhC18K-3Uv",
        "outputId": "6f5644b1-d02c-4d17-defe-fa8aac7a5821"
      },
      "outputs": [
        {
          "output_type": "stream",
          "name": "stdout",
          "text": [
            "El tipo de dato de cada columna es:\n",
            "user_id        int64\n",
            "age            int64\n",
            "gender        object\n",
            "occupation    object\n",
            "zip_code      object\n",
            "dtype: object\n",
            "\n"
          ]
        }
      ],
      "source": [
        "# Desarrollo\n",
        "\n",
        "print(\"El tipo de dato de cada columna es:\")\n",
        "print(df.dtypes) #función que da el tipo de dato\n",
        "print(\"\")"
      ]
    },
    {
      "cell_type": "markdown",
      "metadata": {
        "id": "WqfW8C8C-3Uv"
      },
      "source": [
        "6.- Describir el conjunto de datos (**hint**: .describe())"
      ]
    },
    {
      "cell_type": "code",
      "execution_count": 15,
      "metadata": {
        "colab": {
          "base_uri": "https://localhost:8080/"
        },
        "id": "vVi2auCB-3Uw",
        "outputId": "704b0d39-6487-4ae5-f719-30fe8beea450"
      },
      "outputs": [
        {
          "output_type": "stream",
          "name": "stdout",
          "text": [
            "El conjunto de datos descritos:\n",
            "          user_id         age\n",
            "count  943.000000  943.000000\n",
            "mean   472.000000   34.051962\n",
            "std    272.364951   12.192740\n",
            "min      1.000000    7.000000\n",
            "25%    236.500000   25.000000\n",
            "50%    472.000000   31.000000\n",
            "75%    707.500000   43.000000\n",
            "max    943.000000   73.000000\n"
          ]
        }
      ],
      "source": [
        "# Desarrollo\n",
        "\n",
        "print(\"El conjunto de datos descritos:\")\n",
        "print(df.describe()) #se tuiliza la función describe mencionada en el hint"
      ]
    },
    {
      "cell_type": "markdown",
      "metadata": {
        "id": "QxR7tnKt-3Ux"
      },
      "source": [
        "7.- Imprimir solo la columna de **occupation**."
      ]
    },
    {
      "cell_type": "code",
      "execution_count": 17,
      "metadata": {
        "colab": {
          "base_uri": "https://localhost:8080/"
        },
        "id": "bWW61LmQ-3Uy",
        "outputId": "f7244740-eed9-4e97-8f1c-19253df81958"
      },
      "outputs": [
        {
          "output_type": "stream",
          "name": "stdout",
          "text": [
            "La columna occupation es: \n",
            "\n",
            "0         technician\n",
            "1              other\n",
            "2             writer\n",
            "3         technician\n",
            "4              other\n",
            "           ...      \n",
            "938          student\n",
            "939    administrator\n",
            "940          student\n",
            "941        librarian\n",
            "942          student\n",
            "Name: occupation, Length: 943, dtype: object\n"
          ]
        }
      ],
      "source": [
        "# Desarrollo\n",
        "\n",
        "print(\"La columna occupation es: \\n\")\n",
        "print(df[\"occupation\"])"
      ]
    },
    {
      "cell_type": "markdown",
      "metadata": {
        "id": "pVAZJhDk-3Uz"
      },
      "source": [
        "8.- ¿Cuántas ocupaciones diferentes hay en este conjunto de datos?"
      ]
    },
    {
      "cell_type": "code",
      "execution_count": 25,
      "metadata": {
        "colab": {
          "base_uri": "https://localhost:8080/"
        },
        "id": "WdG26Uyp-3Uz",
        "outputId": "788111d0-2aa6-457b-c11e-b232a13548b9"
      },
      "outputs": [
        {
          "output_type": "stream",
          "name": "stdout",
          "text": [
            "La cantidad de ocupaciones diferentes es: 21\n"
          ]
        }
      ],
      "source": [
        "# Desarrollo\n",
        "\n",
        "ocup = df[\"occupation\"].unique()\n",
        "print(\"La cantidad de ocupaciones diferentes es: \"+str(len(ocup)))"
      ]
    },
    {
      "cell_type": "markdown",
      "metadata": {
        "id": "Mp9viDlT-3U0"
      },
      "source": [
        "9.- ¿Cuál es la ocupación más frecuente?"
      ]
    },
    {
      "cell_type": "code",
      "execution_count": 23,
      "metadata": {
        "colab": {
          "base_uri": "https://localhost:8080/"
        },
        "id": "qIOAoPHS-3U1",
        "outputId": "7dde17b3-52ad-4cc4-958f-df878d2f3b30"
      },
      "outputs": [
        {
          "output_type": "stream",
          "name": "stdout",
          "text": [
            "La ocupacion mas frecuente es: student\n"
          ]
        }
      ],
      "source": [
        "# Desarrollo\n",
        "\n",
        "fre = df[\"occupation\"].value_counts()\n",
        "print(\"La ocupacion mas frecuente es: \"+str(fre.idxmax()))"
      ]
    },
    {
      "cell_type": "markdown",
      "metadata": {
        "id": "UEyXyajk-3U1"
      },
      "source": [
        "10.- ¿Cuál es la edad media de los usuarios?"
      ]
    },
    {
      "cell_type": "code",
      "execution_count": 21,
      "metadata": {
        "colab": {
          "base_uri": "https://localhost:8080/"
        },
        "id": "svsLATbT-3U1",
        "outputId": "8a8db82a-f294-4b22-cbd3-359d99933ffd"
      },
      "outputs": [
        {
          "output_type": "stream",
          "name": "stdout",
          "text": [
            "La edad media de los usuarios es: 34\n"
          ]
        }
      ],
      "source": [
        "# Desarrollo\n",
        "\n",
        "med_edad = df[\"age\"].mean()\n",
        "print(\"La edad media de los usuarios es: \"+str(int(med_edad)))"
      ]
    },
    {
      "cell_type": "markdown",
      "metadata": {
        "id": "nXfw_dNN-3U1"
      },
      "source": [
        "11.- ¿Cuál es la edad con menos ocurrencia?"
      ]
    },
    {
      "cell_type": "code",
      "execution_count": 27,
      "metadata": {
        "colab": {
          "base_uri": "https://localhost:8080/"
        },
        "id": "hLalNy1O-3U2",
        "outputId": "5e8a85df-d56e-4053-a41d-cc59733e5379"
      },
      "outputs": [
        {
          "output_type": "stream",
          "name": "stdout",
          "text": [
            "La edad menos ocurrente es: 7\n"
          ]
        }
      ],
      "source": [
        "# Desarrollo\n",
        "\n",
        "f_edades = df[\"age\"].value_counts()\n",
        "print(\"La edad menos ocurrente es: \"+str(f_edades.idxmin()))"
      ]
    }
  ],
  "metadata": {
    "kernelspec": {
      "display_name": "Python 3 (ipykernel)",
      "language": "python",
      "name": "python3"
    },
    "language_info": {
      "codemirror_mode": {
        "name": "ipython",
        "version": 3
      },
      "file_extension": ".py",
      "mimetype": "text/x-python",
      "name": "python",
      "nbconvert_exporter": "python",
      "pygments_lexer": "ipython3",
      "version": "3.8.10"
    },
    "colab": {
      "provenance": []
    }
  },
  "nbformat": 4,
  "nbformat_minor": 0
}